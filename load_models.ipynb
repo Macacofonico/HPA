{
 "cells": [
  {
   "cell_type": "code",
   "execution_count": 1,
   "id": "1762a87c",
   "metadata": {},
   "outputs": [],
   "source": [
    "import numpy as np\n",
    "import pandas as pd\n",
    "import os\n",
    "\n",
    "#import sklearn.model_selection as model_selection\n",
    "import tensorflow as tf\n",
    "import keras\n",
    "#import pydot\n",
    "import matplotlib.pyplot as plt\n",
    "import csv"
   ]
  },
  {
   "cell_type": "code",
   "execution_count": 2,
   "id": "5713b6ff",
   "metadata": {},
   "outputs": [],
   "source": [
    "BATCH_SIZE = 4\n",
    "AUTOTUNE = tf.data.experimental.AUTOTUNE"
   ]
  },
  {
   "cell_type": "code",
   "execution_count": 3,
   "id": "63075c16",
   "metadata": {},
   "outputs": [],
   "source": [
    "ResNet50_thresh = [\n",
    "\t\t\t0.74444923, 0.30997806, 0.4201866 , 0.22654252, 0.43615441,\n",
    "\t\t\t0.17688525, 0.10371951, 0.21240841, 0.01169568, 0.01127118,\n",
    "\t\t\t0.00631477, 0.1015508 , 0.09528982, 0.10901272, 0.97817575,\n",
    "\t\t\t0.0059347 , 0.05466259, 0.02932084, 0.06736068, 0.11088215,\n",
    "\t\t\t0.02574941, 0.24147759, 0.05154309, 0.29932558, 0.04224337,\n",
    "\t\t\t0.46476043, 0.02983662, 0.00598989\n",
    "\t\t  ]"
   ]
  },
  {
   "cell_type": "code",
   "execution_count": 4,
   "id": "b2709c64",
   "metadata": {},
   "outputs": [],
   "source": [
    "Xception_thresh = [\n",
    "            0.51997931, 0.97072391, 0.46045949, 0.99137787, 0.72512962,\n",
    "            0.95618641, 0.97886023, 0.86301403, 0.99995389, 0.99964118,\n",
    "            0.99946806, 0.98000044, 0.8887235 , 0.99623207, 0.98616731,\n",
    "            0.96080434, 0.99745922, 0.99978051, 0.93036813, 0.84382995,\n",
    "            0.99633127, 0.99982706, 0.99987868, 0.92638686, 0.99681511,\n",
    "            0.91722482, 0.67764074, 0.99690612\n",
    "            ]"
   ]
  },
  {
   "cell_type": "code",
   "execution_count": 5,
   "id": "dd196b22",
   "metadata": {},
   "outputs": [],
   "source": [
    "HPAV100_thresh = [\n",
    "            0.32236402, 0.05530944, 0.12785086, 0.05519807, 0.03973802,\n",
    "            0.08109811, 0.07114721, 0.09052892, 0.00863046, 0.01262293,\n",
    "            0.0132055 , 0.03374713, 0.02455985, 0.02844724, 0.04082179,\n",
    "            0.00960584, 0.02783582, 0.01582063, 0.02419314, 0.08937495,\n",
    "            0.02719273, 0.10485751, 0.02572011, 0.09735668, 0.01917352,\n",
    "            0.26713884, 0.0207516 , 0.01519562\n",
    "            ]"
   ]
  },
  {
   "cell_type": "code",
   "execution_count": 6,
   "id": "21d70ab6",
   "metadata": {},
   "outputs": [
    {
     "data": {
      "text/html": [
       "<div>\n",
       "<style scoped>\n",
       "    .dataframe tbody tr th:only-of-type {\n",
       "        vertical-align: middle;\n",
       "    }\n",
       "\n",
       "    .dataframe tbody tr th {\n",
       "        vertical-align: top;\n",
       "    }\n",
       "\n",
       "    .dataframe thead th {\n",
       "        text-align: right;\n",
       "    }\n",
       "</style>\n",
       "<table border=\"1\" class=\"dataframe\">\n",
       "  <thead>\n",
       "    <tr style=\"text-align: right;\">\n",
       "      <th></th>\n",
       "      <th>Id</th>\n",
       "      <th>Path</th>\n",
       "      <th>Predicted</th>\n",
       "    </tr>\n",
       "  </thead>\n",
       "  <tbody>\n",
       "    <tr>\n",
       "      <th>0</th>\n",
       "      <td>1f95b5ce-bad6-11e8-b2b9-ac1f6b6435d0</td>\n",
       "      <td>./test/1f95b5ce-bad6-11e8-b2b9-ac1f6b6435d0</td>\n",
       "      <td></td>\n",
       "    </tr>\n",
       "    <tr>\n",
       "      <th>1</th>\n",
       "      <td>705d86e8-bacd-11e8-b2b8-ac1f6b6435d0</td>\n",
       "      <td>./test/705d86e8-bacd-11e8-b2b8-ac1f6b6435d0</td>\n",
       "      <td></td>\n",
       "    </tr>\n",
       "    <tr>\n",
       "      <th>2</th>\n",
       "      <td>35208eb6-bad4-11e8-b2b8-ac1f6b6435d0</td>\n",
       "      <td>./test/35208eb6-bad4-11e8-b2b8-ac1f6b6435d0</td>\n",
       "      <td></td>\n",
       "    </tr>\n",
       "    <tr>\n",
       "      <th>3</th>\n",
       "      <td>8e233686-bad3-11e8-b2b8-ac1f6b6435d0</td>\n",
       "      <td>./test/8e233686-bad3-11e8-b2b8-ac1f6b6435d0</td>\n",
       "      <td></td>\n",
       "    </tr>\n",
       "    <tr>\n",
       "      <th>4</th>\n",
       "      <td>e53f7f52-bacd-11e8-b2b8-ac1f6b6435d0</td>\n",
       "      <td>./test/e53f7f52-bacd-11e8-b2b8-ac1f6b6435d0</td>\n",
       "      <td></td>\n",
       "    </tr>\n",
       "    <tr>\n",
       "      <th>...</th>\n",
       "      <td>...</td>\n",
       "      <td>...</td>\n",
       "      <td>...</td>\n",
       "    </tr>\n",
       "    <tr>\n",
       "      <th>11697</th>\n",
       "      <td>2a15aece-bacb-11e8-b2b8-ac1f6b6435d0</td>\n",
       "      <td>./test/2a15aece-bacb-11e8-b2b8-ac1f6b6435d0</td>\n",
       "      <td></td>\n",
       "    </tr>\n",
       "    <tr>\n",
       "      <th>11698</th>\n",
       "      <td>2b155dec-bac6-11e8-b2b7-ac1f6b6435d0</td>\n",
       "      <td>./test/2b155dec-bac6-11e8-b2b7-ac1f6b6435d0</td>\n",
       "      <td></td>\n",
       "    </tr>\n",
       "    <tr>\n",
       "      <th>11699</th>\n",
       "      <td>210ce520-bad7-11e8-b2b9-ac1f6b6435d0</td>\n",
       "      <td>./test/210ce520-bad7-11e8-b2b9-ac1f6b6435d0</td>\n",
       "      <td></td>\n",
       "    </tr>\n",
       "    <tr>\n",
       "      <th>11700</th>\n",
       "      <td>d1d3ea52-bad7-11e8-b2b9-ac1f6b6435d0</td>\n",
       "      <td>./test/d1d3ea52-bad7-11e8-b2b9-ac1f6b6435d0</td>\n",
       "      <td></td>\n",
       "    </tr>\n",
       "    <tr>\n",
       "      <th>11701</th>\n",
       "      <td>8412e972-bac7-11e8-b2b7-ac1f6b6435d0</td>\n",
       "      <td>./test/8412e972-bac7-11e8-b2b7-ac1f6b6435d0</td>\n",
       "      <td></td>\n",
       "    </tr>\n",
       "  </tbody>\n",
       "</table>\n",
       "<p>11702 rows × 3 columns</p>\n",
       "</div>"
      ],
      "text/plain": [
       "                                         Id  \\\n",
       "0      1f95b5ce-bad6-11e8-b2b9-ac1f6b6435d0   \n",
       "1      705d86e8-bacd-11e8-b2b8-ac1f6b6435d0   \n",
       "2      35208eb6-bad4-11e8-b2b8-ac1f6b6435d0   \n",
       "3      8e233686-bad3-11e8-b2b8-ac1f6b6435d0   \n",
       "4      e53f7f52-bacd-11e8-b2b8-ac1f6b6435d0   \n",
       "...                                     ...   \n",
       "11697  2a15aece-bacb-11e8-b2b8-ac1f6b6435d0   \n",
       "11698  2b155dec-bac6-11e8-b2b7-ac1f6b6435d0   \n",
       "11699  210ce520-bad7-11e8-b2b9-ac1f6b6435d0   \n",
       "11700  d1d3ea52-bad7-11e8-b2b9-ac1f6b6435d0   \n",
       "11701  8412e972-bac7-11e8-b2b7-ac1f6b6435d0   \n",
       "\n",
       "                                              Path Predicted  \n",
       "0      ./test/1f95b5ce-bad6-11e8-b2b9-ac1f6b6435d0            \n",
       "1      ./test/705d86e8-bacd-11e8-b2b8-ac1f6b6435d0            \n",
       "2      ./test/35208eb6-bad4-11e8-b2b8-ac1f6b6435d0            \n",
       "3      ./test/8e233686-bad3-11e8-b2b8-ac1f6b6435d0            \n",
       "4      ./test/e53f7f52-bacd-11e8-b2b8-ac1f6b6435d0            \n",
       "...                                            ...       ...  \n",
       "11697  ./test/2a15aece-bacb-11e8-b2b8-ac1f6b6435d0            \n",
       "11698  ./test/2b155dec-bac6-11e8-b2b7-ac1f6b6435d0            \n",
       "11699  ./test/210ce520-bad7-11e8-b2b9-ac1f6b6435d0            \n",
       "11700  ./test/d1d3ea52-bad7-11e8-b2b9-ac1f6b6435d0            \n",
       "11701  ./test/8412e972-bac7-11e8-b2b7-ac1f6b6435d0            \n",
       "\n",
       "[11702 rows x 3 columns]"
      ]
     },
     "execution_count": 6,
     "metadata": {},
     "output_type": "execute_result"
    }
   ],
   "source": [
    "path_to_test = './test/'\n",
    "_, _, filenames = next(os.walk(path_to_test))\n",
    "\n",
    "for idx, file in enumerate(filenames):\n",
    "    filenames[idx] = filenames[idx].split('_')[0]\n",
    "\n",
    "test = pd.DataFrame(set(filenames), columns = ['Id'])\n",
    "test['Path'] = path_to_test + test.Id\n",
    "test['Predicted'] = ''\n",
    "test"
   ]
  },
  {
   "cell_type": "code",
   "execution_count": 7,
   "id": "e2f630ea",
   "metadata": {},
   "outputs": [],
   "source": [
    "def load_data(path):\n",
    "    red = tf.squeeze(tf.image.decode_png(tf.io.read_file(path + '_red.png'), channels = 1), [2])\n",
    "    blue = tf.squeeze(tf.image.decode_png(tf.io.read_file(path + '_blue.png'), channels = 1), [2])\n",
    "    green = tf.squeeze(tf.image.decode_png(tf.io.read_file(path + '_green.png'), channels = 1), [2])\n",
    "    img = tf.stack((red, green, blue), axis=2)\n",
    "    return img"
   ]
  },
  {
   "cell_type": "code",
   "execution_count": 8,
   "id": "441d520b",
   "metadata": {},
   "outputs": [],
   "source": [
    "test_data = tf.data.Dataset.from_tensor_slices(np.array(test['Path']))\n",
    "test_data = test_data.map(load_data, num_parallel_calls = AUTOTUNE)\n",
    "test_data_batches = test_data.batch(BATCH_SIZE).prefetch(buffer_size = AUTOTUNE)"
   ]
  },
  {
   "cell_type": "code",
   "execution_count": 9,
   "id": "04a246bb",
   "metadata": {},
   "outputs": [
    {
     "data": {
      "text/plain": [
       "<PrefetchDataset shapes: (None, None, None, 3), types: tf.uint8>"
      ]
     },
     "execution_count": 9,
     "metadata": {},
     "output_type": "execute_result"
    }
   ],
   "source": [
    "test_data_batches"
   ]
  },
  {
   "cell_type": "code",
   "execution_count": 10,
   "id": "1966f163",
   "metadata": {},
   "outputs": [],
   "source": [
    "def one_hot_decoder(mat):\n",
    "    lis = []\n",
    "    for i, arr in enumerate(mat):\n",
    "        lis.append(' '.join(str(label) for label in [idx for idx, out in enumerate(arr) if out == 1]))\n",
    "    return lis\n",
    "\n",
    "def predict_csv(model, threshold, verbose = 1, test_path = './test/', save_path = './test.csv'):\n",
    "    test_path = './test/'\n",
    "    _, _, filenames = next(os.walk(test_path))\n",
    "\n",
    "    for idx, file in enumerate(filenames):\n",
    "        filenames[idx] = filenames[idx].split('_')[0]\n",
    "\n",
    "    test = pd.DataFrame(set(filenames), columns = ['Id'])\n",
    "    test['Path'] = test_path + test.Id\n",
    "    test['Predicted'] = ''\n",
    "    \n",
    "    test_data = tf.data.Dataset.from_tensor_slices(np.array(test['Path']))\n",
    "    test_data = test_data.map(load_data, num_parallel_calls = AUTOTUNE)\n",
    "    test_data_batches = test_data.batch(BATCH_SIZE).prefetch(buffer_size = AUTOTUNE)\n",
    "    \n",
    "    prediction = model.predict(test_data_batches, batch_size = BATCH_SIZE, verbose = verbose, steps = None,)\n",
    "    for i in range(len(prediction)):\n",
    "        prediction[i, prediction[i].argmax()] = 1\n",
    "    prediction[prediction > threshold] = 1\n",
    "    prediction[prediction <= threshold] = 0\n",
    "    prediction = prediction.astype(int)\n",
    "    \n",
    "    test.Predicted = one_hot_decoder(prediction)\n",
    "    test[['Id', 'Predicted']].to_csv(save_path, index = False, quoting=csv.QUOTE_NONE, quotechar=\"\", escapechar =\",\")\n",
    "    "
   ]
  },
  {
   "cell_type": "code",
   "execution_count": null,
   "id": "5686da9c",
   "metadata": {},
   "outputs": [],
   "source": []
  },
  {
   "cell_type": "code",
   "execution_count": 11,
   "id": "7f71e3ed",
   "metadata": {},
   "outputs": [
    {
     "name": "stdout",
     "output_type": "stream",
     "text": [
      "2926/2926 [==============================] - 148s 50ms/step\n"
     ]
    }
   ],
   "source": [
    "# Load model_ResNet50\n",
    "model_ResNet50 = keras.models.load_model('hpa_ResNet50_model.tf')\n",
    "predict_csv(model_ResNet50, threshold = ResNet50_thresh, verbose = 1, save_path = './test_model_ResNet50.csv')"
   ]
  },
  {
   "cell_type": "code",
   "execution_count": 12,
   "id": "c5781a63",
   "metadata": {},
   "outputs": [
    {
     "name": "stdout",
     "output_type": "stream",
     "text": [
      "2926/2926 [==============================] - 158s 54ms/step\n"
     ]
    }
   ],
   "source": [
    "# Load model_Xception\n",
    "model_Xception = keras.models.load_model('hpa_Xception_model.tf')\n",
    "predict_csv(model_Xception, threshold = Xception_thresh, verbose = 1, save_path = './test_model_Xception.csv')"
   ]
  },
  {
   "cell_type": "code",
   "execution_count": 13,
   "id": "6e92a185",
   "metadata": {},
   "outputs": [],
   "source": [
    "# Load model_HPAV100\n",
    "#model_HPAV100 = keras.models.load_model('hpa_HPAV100_model.tf')\n",
    "#predict_csv(model_HPAV100, threshold = HPAV100_thresh, verbose = 1, save_path = './test_model_HPAV100.csv')"
   ]
  }
 ],
 "metadata": {
  "kernelspec": {
   "display_name": "ATLAS_GPU",
   "language": "python",
   "name": "atlas_gpu"
  },
  "language_info": {
   "codemirror_mode": {
    "name": "ipython",
    "version": 3
   },
   "file_extension": ".py",
   "mimetype": "text/x-python",
   "name": "python",
   "nbconvert_exporter": "python",
   "pygments_lexer": "ipython3",
   "version": "3.8.8"
  }
 },
 "nbformat": 4,
 "nbformat_minor": 5
}
