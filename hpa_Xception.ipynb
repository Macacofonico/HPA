{
 "cells": [
  {
   "cell_type": "code",
   "execution_count": 1,
   "id": "b433d8aa",
   "metadata": {},
   "outputs": [],
   "source": [
    "import numpy as np\n",
    "import pandas as pd\n",
    "import sklearn.model_selection as model_selection\n",
    "import tensorflow as tf\n",
    "import keras\n",
    "import pydot\n",
    "import matplotlib.pyplot as plt"
   ]
  },
  {
   "cell_type": "code",
   "execution_count": 2,
   "id": "ca90e7da",
   "metadata": {},
   "outputs": [
    {
     "name": "stdout",
     "output_type": "stream",
     "text": [
      "Devices List:  [PhysicalDevice(name='/physical_device:GPU:0', device_type='GPU')]\n",
      "Is built with CUDA: True\n"
     ]
    }
   ],
   "source": [
    "# Test for GPU and CUDA\n",
    "\n",
    "print('Devices List: ', tf.config.list_physical_devices('GPU'))\n",
    "print('Is built with CUDA:', tf.test.is_built_with_cuda())"
   ]
  },
  {
   "cell_type": "code",
   "execution_count": 3,
   "id": "67302b49",
   "metadata": {},
   "outputs": [],
   "source": [
    "# List, dictionaries of class number and labels.\n",
    "\n",
    "label_dict = {0: 'Nucleoplasm', 1: 'Nuclear membrane', 2: 'Nucleoli', 3: 'Nucleoli fibrillar center', 4: 'Nuclear speckles', 5: 'Nuclear bodies', 6: 'Endoplasmic reticulum',\n",
    "         7: 'Golgi apparatus', 8: 'Peroxisomes', 9: 'Endosomes', 10: 'Lysosomes', 11: 'Intermediate filaments', 12: 'Actin filaments', 13: 'Focal adhesion sites', \n",
    "         14: 'Microtubules', 15: 'Microtubule ends', 16: 'Cytokinetic bridge', 17: 'Mitotic spindle', 18: 'Microtubule organizing center', 19: 'Centrosome', 20: 'Lipid droplets',\n",
    "         21: 'Plasma membrane', 22: 'Cell junctions', 23: 'Mitochondria', 24: 'Aggresome', 25: 'Cytosol', 26: 'Cytoplasmic bodies', 27: 'Rods & rings'}\n",
    "\n",
    "label_list = ['Nucleoplasm', 'Nuclear membrane', 'Nucleoli', 'Nucleoli fibrillar center', 'Nuclear speckles', 'Nuclear bodies', 'Endoplasmic reticulum', \n",
    "              'Golgi apparatus', 'Peroxisomes', 'Endosomes', 'Lysosomes', 'Intermediate filaments', 'Actin filaments', 'Focal adhesion sites', \n",
    "              'Microtubules', 'Microtubule ends', 'Cytokinetic bridge', 'Mitotic spindle', 'Microtubule organizing center', 'Centrosome', 'Lipid droplets', \n",
    "              'Plasma membrane', 'Cell junctions', 'Mitochondria', 'Aggresome', 'Cytosol', 'Cytoplasmic bodies', 'Rods & rings']\n",
    "\n",
    "map_label_number = {'Nucleoplasm': 0, 'Nuclear membrane': 1, 'Nucleoli': 2, 'Nucleoli fibrillar center': 3, 'Nuclear speckles': 4, 'Nuclear bodies': 5, 'Endoplasmic reticulum': 6, \n",
    "                    'Golgi apparatus': 7, 'Peroxisomes': 8, 'Endosomes': 9, 'Lysosomes': 10, 'Intermediate filaments': 11, 'Actin filaments': 12, 'Focal adhesion sites': 13, \n",
    "                    'Microtubules': 14, 'Microtubule ends': 15, 'Cytokinetic bridge': 16, 'Mitotic spindle': 17, 'Microtubule organizing center': 18, 'Centrosome': 19, 'Lipid droplets': 20, \n",
    "                    'Plasma membrane': 21, 'Cell junctions': 22, 'Mitochondria': 23, 'Aggresome': 24, 'Cytosol': 25, 'Cytoplasmic bodies': 26, 'Rods & rings': 27}"
   ]
  },
  {
   "cell_type": "code",
   "execution_count": 4,
   "id": "4a0150aa",
   "metadata": {},
   "outputs": [],
   "source": [
    "# Set the path to train set\n",
    "\n",
    "path_to_train = './train/'"
   ]
  },
  {
   "cell_type": "code",
   "execution_count": 5,
   "id": "e34117fb",
   "metadata": {},
   "outputs": [],
   "source": [
    "# Global Variables\n",
    "\n",
    "INPUT_SHAPE = (512, 512, 3) # Images all have the same dimension\n",
    "BATCH_SIZE = 2 # batch size for model learing. 8 gives OOM"
   ]
  },
  {
   "cell_type": "code",
   "execution_count": 6,
   "id": "e61cee05",
   "metadata": {},
   "outputs": [],
   "source": [
    "ground_truth = pd.read_csv('train.csv')\n",
    "ground_truth['List Target'] = ground_truth['Target'].apply(lambda string: sorted(list(map(int, string.split(' ')))))\n",
    "ground_truth['Label Target'] =  ground_truth['List Target'].apply(lambda lis: [label_list[idx] for idx in lis])\n",
    "ground_truth['Label'] =  ground_truth['Label Target'].apply(lambda lis: ', '.join(lis))\n",
    "ground_truth['Path'] = path_to_train + ground_truth['Id']"
   ]
  },
  {
   "cell_type": "code",
   "execution_count": 7,
   "id": "23ff1ac4",
   "metadata": {},
   "outputs": [],
   "source": [
    "# Get train set and validation set\n",
    "\n",
    "train, val = model_selection.train_test_split(ground_truth, test_size = 0.2, random_state = 42)"
   ]
  },
  {
   "cell_type": "code",
   "execution_count": 8,
   "id": "d92a7da7",
   "metadata": {},
   "outputs": [],
   "source": [
    "# OneHotEncoding\n",
    "\n",
    "def get_clean_data(df):\n",
    "    targets = []\n",
    "    paths = []\n",
    "    for _, row in df.iterrows():\n",
    "        target_np = np.zeros(len(label_list))\n",
    "        t = [int(t) for t in row.Target.split()]\n",
    "        target_np[t] = 1\n",
    "        targets.append(target_np)\n",
    "        paths.append(row.Path)\n",
    "    return np.array(paths), np.array(targets)\n",
    "\n",
    "\n",
    "def load_data(path, target):\n",
    "    red = tf.squeeze(tf.image.decode_png(tf.io.read_file(path + '_red.png'), channels = 1), [2])\n",
    "    blue = tf.squeeze(tf.image.decode_png(tf.io.read_file(path + '_blue.png'), channels = 1), [2])\n",
    "    green = tf.squeeze(tf.image.decode_png(tf.io.read_file(path + '_green.png'), channels = 1), [2])\n",
    "    img = tf.stack((red, green, blue), axis=2)\n",
    "    return img, target\n",
    "\n",
    "AUTOTUNE = tf.data.experimental.AUTOTUNE"
   ]
  },
  {
   "cell_type": "code",
   "execution_count": 9,
   "id": "d9f2aa7e",
   "metadata": {},
   "outputs": [],
   "source": [
    "train_path, train_target = get_clean_data(train)\n",
    "val_path, val_target = get_clean_data(val)\n",
    "\n",
    "#print(f'Train path shape: {train_path.shape}')\n",
    "#print(f'Train target shape: {train_target.shape}')\n",
    "#print(f'Val path shape: {val_path.shape}')\n",
    "#print(f'Val target shape: {val_target.shape}')"
   ]
  },
  {
   "cell_type": "code",
   "execution_count": 10,
   "id": "0546ae1f",
   "metadata": {},
   "outputs": [],
   "source": [
    "train_data = tf.data.Dataset.from_tensor_slices((train_path, train_target))\n",
    "val_data = tf.data.Dataset.from_tensor_slices((val_path, val_target))"
   ]
  },
  {
   "cell_type": "code",
   "execution_count": 11,
   "id": "812b01d5",
   "metadata": {},
   "outputs": [],
   "source": [
    "train_data = train_data.map(load_data, num_parallel_calls = AUTOTUNE) # prendiamo ogni elemento di train_data (che sono path) e li mappiamo nella rispettiva immagine\n",
    "val_data = val_data.map(load_data, num_parallel_calls = AUTOTUNE)"
   ]
  },
  {
   "cell_type": "code",
   "execution_count": 12,
   "id": "1dd74851",
   "metadata": {},
   "outputs": [
    {
     "data": {
      "text/plain": [
       "<PrefetchDataset shapes: ((None, None, None, 3), (None, 28)), types: (tf.uint8, tf.float64)>"
      ]
     },
     "execution_count": 12,
     "metadata": {},
     "output_type": "execute_result"
    }
   ],
   "source": [
    "train_data_batches = train_data.batch(BATCH_SIZE).prefetch(buffer_size = AUTOTUNE)\n",
    "val_data_batches = val_data.batch(BATCH_SIZE).prefetch(buffer_size = AUTOTUNE)\n",
    "train_data_batches"
   ]
  },
  {
   "cell_type": "code",
   "execution_count": 13,
   "id": "cb50d788",
   "metadata": {},
   "outputs": [
    {
     "name": "stdout",
     "output_type": "stream",
     "text": [
      "Model: \"model\"\n",
      "_________________________________________________________________\n",
      "Layer (type)                 Output Shape              Param #   \n",
      "=================================================================\n",
      "input_2 (InputLayer)         [(None, 512, 512, 3)]     0         \n",
      "_________________________________________________________________\n",
      "xception (Functional)        (None, None, None, 2048)  20861480  \n",
      "_________________________________________________________________\n",
      "flatten (Flatten)            (None, 524288)            0         \n",
      "_________________________________________________________________\n",
      "dropout (Dropout)            (None, 524288)            0         \n",
      "_________________________________________________________________\n",
      "dense (Dense)                (None, 512)               268435968 \n",
      "_________________________________________________________________\n",
      "dropout_1 (Dropout)          (None, 512)               0         \n",
      "_________________________________________________________________\n",
      "dense_1 (Dense)              (None, 28)                14364     \n",
      "=================================================================\n",
      "Total params: 289,311,812\n",
      "Trainable params: 289,257,284\n",
      "Non-trainable params: 54,528\n",
      "_________________________________________________________________\n"
     ]
    }
   ],
   "source": [
    "# The model starts with a Xception layer and stack Flatten, Dropout and Dense layers.\n",
    "\n",
    "xception_model = keras.applications.Xception(include_top = False, weights = 'imagenet') # include_top = False dovrebbe permettermi di personalizzare l'input layer\n",
    "xception_model.trainable = True\n",
    "\n",
    "input_layer = keras.layers.Input(shape = INPUT_SHAPE)\n",
    "x = xception_model(input_layer)\n",
    "x = keras.layers.Flatten()(x) # create a single array\n",
    "x = keras.layers.Dropout(0.5)(x) # reduce overfitting\n",
    "x = keras.layers.Dense(512, activation = 'relu')(x)\n",
    "x = keras.layers.Dropout(0.5)(x)\n",
    "output = keras.layers.Dense(28, activation = 'sigmoid')(x) # 28, one for each class\n",
    "xception_model = keras.models.Model(input_layer, output)\n",
    "\n",
    "xception_model.summary()"
   ]
  },
  {
   "cell_type": "code",
   "execution_count": 14,
   "id": "85604969",
   "metadata": {},
   "outputs": [
    {
     "data": {
      "image/png": "[encoded data removed]",
      "text/plain": [
       "<IPython.core.display.Image object>"
      ]
     },
     "execution_count": 14,
     "metadata": {},
     "output_type": "execute_result"
    }
   ],
   "source": [
    "keras.utils.plot_model(xception_model, \"xception_model.png\", show_shapes = True)"
   ]
  },
  {
   "cell_type": "code",
   "execution_count": 15,
   "id": "dd5d48d2",
   "metadata": {},
   "outputs": [],
   "source": [
    "xception_model.compile(optimizer = keras.optimizers.Adam(1e-4), loss = 'binary_crossentropy', metrics = 'binary_accuracy')"
   ]
  },
  {
   "cell_type": "code",
   "execution_count": 16,
   "id": "e8f40bce",
   "metadata": {},
   "outputs": [],
   "source": [
    "# Uncomment and run for training the model\n",
    "\n",
    "history = xception_model.fit(train_data_batches, steps_per_epoch = 150, validation_data = val_data_batches, epochs = 40)"
   ]
  },
  {
   "cell_type": "code",
   "execution_count": 17,
   "id": "61068fdd",
   "metadata": {},
   "outputs": [],
   "source": [
    "# Plot History\n",
    "\n",
    "pd.DataFrame(history.history).plot(figsize=(12,4))\n",
    "plt.grid(True)"
   ]
  },
  {
   "cell_type": "code",
   "execution_count": 18,
   "id": "c289933b",
   "metadata": {},
   "outputs": [
    {
     "name": "stdout",
     "output_type": "stream",
     "text": [
      "INFO:tensorflow:Assets written to: ./hpa_Xception_model.tf\\assets\n"
     ]
    }
   ],
   "source": [
    "xception_model.save('./hpa_Xception_model.tf')"
   ]
  },
  {
   "cell_type": "code",
   "execution_count": null,
   "id": "1dc8b4e6",
   "metadata": {},
   "outputs": [],
   "source": []
  },
  {
   "cell_type": "code",
   "execution_count": 19,
   "id": "748ba9de",
   "metadata": {},
   "outputs": [],
   "source": [
    "###### Predict model on validation to get threshold for prediction over test set"
   ]
  },
  {
   "cell_type": "code",
   "execution_count": 20,
   "id": "9f5edea9",
   "metadata": {},
   "outputs": [],
   "source": [
    "def get_frequency_table(ground_truth):\n",
    "    all_label = pd.DataFrame(ground_truth['Label Target'].sum(), columns = ['Label']).copy()\n",
    "    frequency_table = all_label['Label'].value_counts().reset_index().copy().rename(columns = {'index': 'Label', 'Label': 'Frequency'})\n",
    "    frequency_table['Numeric Label'] = pd.DataFrame(frequency_table['Label']).replace({'Label': map_label_number}).copy()\n",
    "    frequency_table['Relative Frequency'] = frequency_table['Frequency'] / frequency_table['Frequency'].sum()\n",
    "    frequency_table['Relative Frequency %'] = (frequency_table['Frequency'] / frequency_table['Frequency'].sum()).apply(lambda number: '{:.2%}'.format(number))\n",
    "    frequency_table[['Numeric Label', 'Label', 'Frequency', 'Relative Frequency', 'Relative Frequency %']].set_index('Numeric Label')\n",
    "    return frequency_table\n",
    "\n",
    "def get_threshold_from_validation(model, val_data_batches, ground_truth, batch_size = 4, verbose = 1, steps = None):\n",
    "    frequency_table = get_frequency_table(ground_truth)\n",
    "    prediction = model.predict(val_data_batches, batch_size = BATCH_SIZE, verbose = verbose, steps = steps)\n",
    "    freq = list(frequency_table[['Numeric Label', 'Relative Frequency']].sort_values(by='Numeric Label')['Relative Frequency'])\n",
    "    thresh = np.diagonal(np.array(pd.DataFrame(prediction).quantile([1 - f for f in freq])))\n",
    "    return thresh"
   ]
  },
  {
   "cell_type": "code",
   "execution_count": 21,
   "id": "308eb76f",
   "metadata": {},
   "outputs": [],
   "source": [
    "# Load the model\n",
    "model_Xception = keras.models.load_model('hpa_Xception_model.tf')"
   ]
  },
  {
   "cell_type": "code",
   "execution_count": 22,
   "id": "327fb0f7",
   "metadata": {},
   "outputs": [
    {
     "name": "stdout",
     "output_type": "stream",
     "text": [
      "3108/3108 [==============================] - 101s 32ms/step\n"
     ]
    },
    {
     "data": {
      "text/plain": [
       "array([0.51997931, 0.97072391, 0.46045949, 0.99137787, 0.72512962,\n",
       "       0.95618641, 0.97886023, 0.86301403, 0.99995389, 0.99964118,\n",
       "       0.99946806, 0.98000044, 0.8887235 , 0.99623207, 0.98616731,\n",
       "       0.96080434, 0.99745922, 0.99978051, 0.93036813, 0.84382995,\n",
       "       0.99633127, 0.99982706, 0.99987868, 0.92638686, 0.99681511,\n",
       "       0.91722482, 0.67764074, 0.99690612])"
      ]
     },
     "execution_count": 22,
     "metadata": {},
     "output_type": "execute_result"
    }
   ],
   "source": [
    "# Get threshold for prediction\n",
    "thresh = get_threshold_from_validation(model_Xception, val_data_batches, ground_truth, batch_size = BATCH_SIZE, verbose = 1, steps = None)\n",
    "thresh"
   ]
  }
 ],
 "metadata": {
  "kernelspec": {
   "display_name": "ATLAS_GPU",
   "language": "python",
   "name": "atlas_gpu"
  },
  "language_info": {
   "codemirror_mode": {
    "name": "ipython",
    "version": 3
   },
   "file_extension": ".py",
   "mimetype": "text/x-python",
   "name": "python",
   "nbconvert_exporter": "python",
   "pygments_lexer": "ipython3",
   "version": "3.8.8"
  }
 },
 "nbformat": 4,
 "nbformat_minor": 5
}
