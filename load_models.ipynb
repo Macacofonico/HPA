{
 "cells": [
  {
   "cell_type": "code",
   "execution_count": 1,
   "id": "b729e32e",
   "metadata": {},
   "outputs": [],
   "source": [
    "import numpy as np\n",
    "import pandas as pd\n",
    "import os\n",
    "\n",
    "#import sklearn.model_selection as model_selection\n",
    "import tensorflow as tf\n",
    "import keras\n",
    "#import pydot\n",
    "import matplotlib.pyplot as plt\n",
    "import csv\n",
    "import itertools"
   ]
  },
  {
   "cell_type": "code",
   "execution_count": 2,
   "id": "d7782f47",
   "metadata": {},
   "outputs": [],
   "source": [
    "BATCH_SIZE = 1\n",
    "AUTOTUNE = tf.data.experimental.AUTOTUNE\n",
    "INPUT_SHAPE = (512, 512, 3) # Images all have the same dimension"
   ]
  },
  {
   "cell_type": "code",
   "execution_count": 3,
   "id": "2198e19c",
   "metadata": {},
   "outputs": [],
   "source": [
    "ResNet50_thresh = [\n",
    "\t\t\t0.74444923, 0.30997806, 0.4201866 , 0.22654252, 0.43615441,\n",
    "\t\t\t0.17688525, 0.10371951, 0.21240841, 0.01169568, 0.01127118,\n",
    "\t\t\t0.00631477, 0.1015508 , 0.09528982, 0.10901272, 0.97817575,\n",
    "\t\t\t0.0059347 , 0.05466259, 0.02932084, 0.06736068, 0.11088215,\n",
    "\t\t\t0.02574941, 0.24147759, 0.05154309, 0.29932558, 0.04224337,\n",
    "\t\t\t0.46476043, 0.02983662, 0.00598989\n",
    "\t\t  ]"
   ]
  },
  {
   "cell_type": "code",
   "execution_count": 4,
   "id": "5aa2f2fb",
   "metadata": {},
   "outputs": [],
   "source": [
    "Xception_thresh = [\n",
    "            0.51997931, 0.97072391, 0.46045949, 0.99137787, 0.72512962,\n",
    "            0.95618641, 0.97886023, 0.86301403, 0.99995389, 0.99964118,\n",
    "            0.99946806, 0.98000044, 0.8887235 , 0.99623207, 0.98616731,\n",
    "            0.96080434, 0.99745922, 0.99978051, 0.93036813, 0.84382995,\n",
    "            0.99633127, 0.99982706, 0.99987868, 0.92638686, 0.99681511,\n",
    "            0.91722482, 0.67764074, 0.99690612\n",
    "            ]"
   ]
  },
  {
   "cell_type": "code",
   "execution_count": 5,
   "id": "d6f34bae",
   "metadata": {},
   "outputs": [],
   "source": [
    "HPAV100_thresh = [\n",
    "            0.46531459, 0.08504691, 0.17167406, 0.08798181, 0.10794212,\n",
    "            0.16868597, 0.06397169, 0.15129016, 0.0247671 , 0.01489603,\n",
    "            0.01109259, 0.10454673, 0.05517532, 0.06022558, 0.09806639,\n",
    "            0.01551373, 0.05859818, 0.0374826 , 0.07020292, 0.10352099,\n",
    "            0.04503894, 0.15562295, 0.08430966, 0.1490081 , 0.03545762,\n",
    "            0.41436396, 0.0408188 , 0.01823172\n",
    "            ]"
   ]
  },
  {
   "cell_type": "code",
   "execution_count": 6,
   "id": "3d904be8",
   "metadata": {},
   "outputs": [
    {
     "data": {
      "text/html": [
       "<div>\n",
       "<style scoped>\n",
       "    .dataframe tbody tr th:only-of-type {\n",
       "        vertical-align: middle;\n",
       "    }\n",
       "\n",
       "    .dataframe tbody tr th {\n",
       "        vertical-align: top;\n",
       "    }\n",
       "\n",
       "    .dataframe thead th {\n",
       "        text-align: right;\n",
       "    }\n",
       "</style>\n",
       "<table border=\"1\" class=\"dataframe\">\n",
       "  <thead>\n",
       "    <tr style=\"text-align: right;\">\n",
       "      <th></th>\n",
       "      <th>Id</th>\n",
       "      <th>Path</th>\n",
       "      <th>Predicted</th>\n",
       "    </tr>\n",
       "  </thead>\n",
       "  <tbody>\n",
       "    <tr>\n",
       "      <th>0</th>\n",
       "      <td>5f9ed3e0-bad0-11e8-b2b8-ac1f6b6435d0</td>\n",
       "      <td>./test/5f9ed3e0-bad0-11e8-b2b8-ac1f6b6435d0</td>\n",
       "      <td></td>\n",
       "    </tr>\n",
       "    <tr>\n",
       "      <th>1</th>\n",
       "      <td>22c9913c-bac9-11e8-b2b8-ac1f6b6435d0</td>\n",
       "      <td>./test/22c9913c-bac9-11e8-b2b8-ac1f6b6435d0</td>\n",
       "      <td></td>\n",
       "    </tr>\n",
       "    <tr>\n",
       "      <th>2</th>\n",
       "      <td>aff6abdc-bad1-11e8-b2b8-ac1f6b6435d0</td>\n",
       "      <td>./test/aff6abdc-bad1-11e8-b2b8-ac1f6b6435d0</td>\n",
       "      <td></td>\n",
       "    </tr>\n",
       "    <tr>\n",
       "      <th>3</th>\n",
       "      <td>929597c4-bacc-11e8-b2b8-ac1f6b6435d0</td>\n",
       "      <td>./test/929597c4-bacc-11e8-b2b8-ac1f6b6435d0</td>\n",
       "      <td></td>\n",
       "    </tr>\n",
       "    <tr>\n",
       "      <th>4</th>\n",
       "      <td>b40c163e-bad7-11e8-b2b9-ac1f6b6435d0</td>\n",
       "      <td>./test/b40c163e-bad7-11e8-b2b9-ac1f6b6435d0</td>\n",
       "      <td></td>\n",
       "    </tr>\n",
       "    <tr>\n",
       "      <th>...</th>\n",
       "      <td>...</td>\n",
       "      <td>...</td>\n",
       "      <td>...</td>\n",
       "    </tr>\n",
       "    <tr>\n",
       "      <th>11697</th>\n",
       "      <td>831541ee-bad3-11e8-b2b8-ac1f6b6435d0</td>\n",
       "      <td>./test/831541ee-bad3-11e8-b2b8-ac1f6b6435d0</td>\n",
       "      <td></td>\n",
       "    </tr>\n",
       "    <tr>\n",
       "      <th>11698</th>\n",
       "      <td>8234759a-bad5-11e8-b2b9-ac1f6b6435d0</td>\n",
       "      <td>./test/8234759a-bad5-11e8-b2b9-ac1f6b6435d0</td>\n",
       "      <td></td>\n",
       "    </tr>\n",
       "    <tr>\n",
       "      <th>11699</th>\n",
       "      <td>285793de-bad7-11e8-b2b9-ac1f6b6435d0</td>\n",
       "      <td>./test/285793de-bad7-11e8-b2b9-ac1f6b6435d0</td>\n",
       "      <td></td>\n",
       "    </tr>\n",
       "    <tr>\n",
       "      <th>11700</th>\n",
       "      <td>42ceb396-bac8-11e8-b2b7-ac1f6b6435d0</td>\n",
       "      <td>./test/42ceb396-bac8-11e8-b2b7-ac1f6b6435d0</td>\n",
       "      <td></td>\n",
       "    </tr>\n",
       "    <tr>\n",
       "      <th>11701</th>\n",
       "      <td>ddbfd456-bad8-11e8-b2b9-ac1f6b6435d0</td>\n",
       "      <td>./test/ddbfd456-bad8-11e8-b2b9-ac1f6b6435d0</td>\n",
       "      <td></td>\n",
       "    </tr>\n",
       "  </tbody>\n",
       "</table>\n",
       "<p>11702 rows × 3 columns</p>\n",
       "</div>"
      ],
      "text/plain": [
       "                                         Id  \\\n",
       "0      5f9ed3e0-bad0-11e8-b2b8-ac1f6b6435d0   \n",
       "1      22c9913c-bac9-11e8-b2b8-ac1f6b6435d0   \n",
       "2      aff6abdc-bad1-11e8-b2b8-ac1f6b6435d0   \n",
       "3      929597c4-bacc-11e8-b2b8-ac1f6b6435d0   \n",
       "4      b40c163e-bad7-11e8-b2b9-ac1f6b6435d0   \n",
       "...                                     ...   \n",
       "11697  831541ee-bad3-11e8-b2b8-ac1f6b6435d0   \n",
       "11698  8234759a-bad5-11e8-b2b9-ac1f6b6435d0   \n",
       "11699  285793de-bad7-11e8-b2b9-ac1f6b6435d0   \n",
       "11700  42ceb396-bac8-11e8-b2b7-ac1f6b6435d0   \n",
       "11701  ddbfd456-bad8-11e8-b2b9-ac1f6b6435d0   \n",
       "\n",
       "                                              Path Predicted  \n",
       "0      ./test/5f9ed3e0-bad0-11e8-b2b8-ac1f6b6435d0            \n",
       "1      ./test/22c9913c-bac9-11e8-b2b8-ac1f6b6435d0            \n",
       "2      ./test/aff6abdc-bad1-11e8-b2b8-ac1f6b6435d0            \n",
       "3      ./test/929597c4-bacc-11e8-b2b8-ac1f6b6435d0            \n",
       "4      ./test/b40c163e-bad7-11e8-b2b9-ac1f6b6435d0            \n",
       "...                                            ...       ...  \n",
       "11697  ./test/831541ee-bad3-11e8-b2b8-ac1f6b6435d0            \n",
       "11698  ./test/8234759a-bad5-11e8-b2b9-ac1f6b6435d0            \n",
       "11699  ./test/285793de-bad7-11e8-b2b9-ac1f6b6435d0            \n",
       "11700  ./test/42ceb396-bac8-11e8-b2b7-ac1f6b6435d0            \n",
       "11701  ./test/ddbfd456-bad8-11e8-b2b9-ac1f6b6435d0            \n",
       "\n",
       "[11702 rows x 3 columns]"
      ]
     },
     "execution_count": 6,
     "metadata": {},
     "output_type": "execute_result"
    }
   ],
   "source": [
    "path_to_test = './test/'\n",
    "_, _, filenames = next(os.walk(path_to_test))\n",
    "\n",
    "for idx, file in enumerate(filenames):\n",
    "    filenames[idx] = filenames[idx].split('_')[0]\n",
    "\n",
    "test = pd.DataFrame(set(filenames), columns = ['Id'])\n",
    "test['Path'] = path_to_test + test.Id\n",
    "test['Predicted'] = ''\n",
    "test"
   ]
  },
  {
   "cell_type": "code",
   "execution_count": 7,
   "id": "daf65557",
   "metadata": {},
   "outputs": [],
   "source": [
    "def load_data(path):\n",
    "    red = tf.squeeze(tf.image.decode_png(tf.io.read_file(path + '_red.png'), channels = 1), [2])\n",
    "    blue = tf.squeeze(tf.image.decode_png(tf.io.read_file(path + '_blue.png'), channels = 1), [2])\n",
    "    green = tf.squeeze(tf.image.decode_png(tf.io.read_file(path + '_green.png'), channels = 1), [2])\n",
    "    img = tf.stack((red, green, blue), axis=2)\n",
    "    return img"
   ]
  },
  {
   "cell_type": "code",
   "execution_count": 8,
   "id": "1c335191",
   "metadata": {},
   "outputs": [],
   "source": [
    "test_data = tf.data.Dataset.from_tensor_slices(np.array(test['Path']))\n",
    "test_data = test_data.map(load_data, num_parallel_calls = AUTOTUNE)\n",
    "test_data_batches = test_data.batch(BATCH_SIZE).prefetch(buffer_size = AUTOTUNE)"
   ]
  },
  {
   "cell_type": "code",
   "execution_count": 10,
   "id": "3aa7081b",
   "metadata": {},
   "outputs": [],
   "source": [
    "def one_hot_decoder(mat):\n",
    "    lis = []\n",
    "    for i, arr in enumerate(mat):\n",
    "        lis.append(' '.join(str(label) for label in [idx for idx, out in enumerate(arr) if out == 1]))\n",
    "    return lis\n",
    "\n",
    "def predict_csv(model, threshold, verbose = 1, test_path = './test/', save_path = './test.csv'):\n",
    "    test_path = test_path\n",
    "    _, _, filenames = next(os.walk(test_path))\n",
    "\n",
    "    for idx, file in enumerate(filenames):\n",
    "        filenames[idx] = filenames[idx].split('_')[0]\n",
    "\n",
    "    test = pd.DataFrame(set(filenames), columns = ['Id'])\n",
    "    test['Path'] = test_path + test.Id\n",
    "    test['Predicted'] = ''\n",
    "    \n",
    "    test_data = tf.data.Dataset.from_tensor_slices(np.array(test['Path']))\n",
    "    test_data = test_data.map(load_data, num_parallel_calls = AUTOTUNE)\n",
    "    test_data_batches = test_data.batch(BATCH_SIZE).prefetch(buffer_size = AUTOTUNE)\n",
    "    \n",
    "    print(test_data_batches)\n",
    "    \n",
    "    prediction = model.predict(test_data_batches, batch_size = BATCH_SIZE, verbose = verbose, steps = None,)\n",
    "    for i in range(len(prediction)):\n",
    "        prediction[i, prediction[i].argmax()] = 1\n",
    "    prediction[prediction > threshold] = 1\n",
    "    prediction[prediction <= threshold] = 0\n",
    "    prediction = prediction.astype(int)\n",
    "    \n",
    "    test.Predicted = one_hot_decoder(prediction)\n",
    "    test[['Id', 'Predicted']].to_csv(save_path, index = False, quoting=csv.QUOTE_NONE, quotechar=\"\", escapechar =\",\")\n",
    "    "
   ]
  },
  {
   "cell_type": "code",
   "execution_count": 11,
   "id": "6470be16",
   "metadata": {},
   "outputs": [
    {
     "name": "stdout",
     "output_type": "stream",
     "text": [
      "<PrefetchDataset shapes: (None, None, None, 3), types: tf.uint8>\n",
      "11702/11702 [==============================] - 264s 22ms/step\n"
     ]
    }
   ],
   "source": [
    "# Load model_ResNet50\n",
    "model_ResNet50 = keras.models.load_model('hpa_ResNet50_model.tf')\n",
    "predict_csv(model_ResNet50, threshold = ResNet50_thresh, verbose = 1, save_path = './test_model_ResNet50.csv')"
   ]
  },
  {
   "cell_type": "code",
   "execution_count": 12,
   "id": "1e21afa8",
   "metadata": {},
   "outputs": [],
   "source": [
    "# Load model_Xception\n",
    "model_Xception = keras.models.load_model('hpa_Xception_model.tf')\n",
    "predict_csv(model_Xception, threshold = Xception_thresh, verbose = 1, save_path = './test_model_Xception.csv')"
   ]
  },
  {
   "cell_type": "code",
   "execution_count": 13,
   "id": "dbaff35e",
   "metadata": {},
   "outputs": [],
   "source": [
    "# Load model_HPAV100"
   ]
  },
  {
   "cell_type": "code",
   "execution_count": null,
   "id": "3a719af0",
   "metadata": {},
   "outputs": [],
   "source": [
    "def load_double_data(path):\n",
    "    red = tf.squeeze(tf.image.decode_png(tf.io.read_file(path + '_red.png'), channels = 1), [2])\n",
    "    blue = tf.squeeze(tf.image.decode_png(tf.io.read_file(path + '_blue.png'), channels = 1), [2])\n",
    "    green = tf.squeeze(tf.image.decode_png(tf.io.read_file(path + '_green.png'), channels = 1), [2])\n",
    "    img = tf.stack((red, green, blue), axis=2)\n",
    "    return ((img, img), )"
   ]
  },
  {
   "cell_type": "code",
   "execution_count": 157,
   "id": "f807ecbf",
   "metadata": {},
   "outputs": [],
   "source": [
    "def predict_csv_HPAV100(model, threshold, verbose = 1, test_path = './test/', save_path = './test.csv'):\n",
    "    test_path = test_path\n",
    "    _, _, filenames = next(os.walk(test_path))\n",
    "\n",
    "    for idx, file in enumerate(filenames):\n",
    "        filenames[idx] = filenames[idx].split('_')[0]\n",
    "\n",
    "    test = pd.DataFrame(set(filenames), columns = ['Id'])\n",
    "    test['Path'] = test_path + test.Id\n",
    "    test['Predicted'] = ''\n",
    "    \n",
    "    test_data = tf.data.Dataset.from_tensor_slices(np.array(test['Path']))\n",
    "    test_data = test_data.map(load_double_data, num_parallel_calls = AUTOTUNE)\n",
    "    test_data_batches = test_data.batch(BATCH_SIZE).prefetch(buffer_size = AUTOTUNE)\n",
    "    \n",
    "    prediction = model.predict(test_data_batches, batch_size = BATCH_SIZE, verbose = verbose, steps = None,)\n",
    "    for i in range(len(prediction)):\n",
    "        prediction[i, prediction[i].argmax()] = 1\n",
    "        \n",
    "    prediction[prediction > threshold] = 1\n",
    "    prediction[prediction <= threshold] = 0\n",
    "    prediction = prediction.astype(int)\n",
    "    \n",
    "    test.Predicted = one_hot_decoder(prediction)\n",
    "    test[['Id', 'Predicted']].to_csv(save_path, index = False, quoting=csv.QUOTE_NONE, quotechar=\"\", escapechar =\",\")"
   ]
  },
  {
   "cell_type": "code",
   "execution_count": 17,
   "id": "46e586e6",
   "metadata": {},
   "outputs": [],
   "source": [
    "model_HPAV100 = keras.models.load_model('hpa_HPAV100_model.tf')"
   ]
  },
  {
   "cell_type": "code",
   "execution_count": 158,
   "id": "8b691432",
   "metadata": {},
   "outputs": [
    {
     "name": "stdout",
     "output_type": "stream",
     "text": [
      "  334/11702 [..............................] - ETA: 8:03"
     ]
    },
    {
     "ename": "KeyboardInterrupt",
     "evalue": "",
     "output_type": "error",
     "traceback": [
      "\u001b[1;31m---------------------------------------------------------------------------\u001b[0m",
      "\u001b[1;31mKeyboardInterrupt\u001b[0m                         Traceback (most recent call last)",
      "\u001b[1;32m<ipython-input-158-ec64ae97d487>\u001b[0m in \u001b[0;36m<module>\u001b[1;34m\u001b[0m\n\u001b[1;32m----> 1\u001b[1;33m \u001b[0mpredict_csv_HPAV100\u001b[0m\u001b[1;33m(\u001b[0m\u001b[0mmodel_HPAV100\u001b[0m\u001b[1;33m,\u001b[0m \u001b[0mthreshold\u001b[0m \u001b[1;33m=\u001b[0m \u001b[0mHPAV100_thresh\u001b[0m\u001b[1;33m,\u001b[0m \u001b[0mverbose\u001b[0m \u001b[1;33m=\u001b[0m \u001b[1;36m1\u001b[0m\u001b[1;33m,\u001b[0m \u001b[0msave_path\u001b[0m \u001b[1;33m=\u001b[0m \u001b[1;34m'./test_model_HPAV100.csv'\u001b[0m\u001b[1;33m)\u001b[0m\u001b[1;33m\u001b[0m\u001b[1;33m\u001b[0m\u001b[0m\n\u001b[0m",
      "\u001b[1;32m<ipython-input-157-1f13dc568dea>\u001b[0m in \u001b[0;36mpredict_csv_HPAV100\u001b[1;34m(model, threshold, verbose, test_path, save_path)\u001b[0m\n\u001b[0;32m     14\u001b[0m     \u001b[0mtest_data_batches\u001b[0m \u001b[1;33m=\u001b[0m \u001b[0mtest_data\u001b[0m\u001b[1;33m.\u001b[0m\u001b[0mbatch\u001b[0m\u001b[1;33m(\u001b[0m\u001b[0mBATCH_SIZE\u001b[0m\u001b[1;33m)\u001b[0m\u001b[1;33m.\u001b[0m\u001b[0mprefetch\u001b[0m\u001b[1;33m(\u001b[0m\u001b[0mbuffer_size\u001b[0m \u001b[1;33m=\u001b[0m \u001b[0mAUTOTUNE\u001b[0m\u001b[1;33m)\u001b[0m\u001b[1;33m\u001b[0m\u001b[1;33m\u001b[0m\u001b[0m\n\u001b[0;32m     15\u001b[0m \u001b[1;33m\u001b[0m\u001b[0m\n\u001b[1;32m---> 16\u001b[1;33m     \u001b[0mprediction\u001b[0m \u001b[1;33m=\u001b[0m \u001b[0mmodel\u001b[0m\u001b[1;33m.\u001b[0m\u001b[0mpredict\u001b[0m\u001b[1;33m(\u001b[0m\u001b[0mtest_data_batches\u001b[0m\u001b[1;33m,\u001b[0m \u001b[0mbatch_size\u001b[0m \u001b[1;33m=\u001b[0m \u001b[0mBATCH_SIZE\u001b[0m\u001b[1;33m,\u001b[0m \u001b[0mverbose\u001b[0m \u001b[1;33m=\u001b[0m \u001b[0mverbose\u001b[0m\u001b[1;33m,\u001b[0m \u001b[0msteps\u001b[0m \u001b[1;33m=\u001b[0m \u001b[1;32mNone\u001b[0m\u001b[1;33m,\u001b[0m\u001b[1;33m)\u001b[0m\u001b[1;33m\u001b[0m\u001b[1;33m\u001b[0m\u001b[0m\n\u001b[0m\u001b[0;32m     17\u001b[0m     \u001b[1;32mfor\u001b[0m \u001b[0mi\u001b[0m \u001b[1;32min\u001b[0m \u001b[0mrange\u001b[0m\u001b[1;33m(\u001b[0m\u001b[0mlen\u001b[0m\u001b[1;33m(\u001b[0m\u001b[0mprediction\u001b[0m\u001b[1;33m)\u001b[0m\u001b[1;33m)\u001b[0m\u001b[1;33m:\u001b[0m\u001b[1;33m\u001b[0m\u001b[1;33m\u001b[0m\u001b[0m\n\u001b[0;32m     18\u001b[0m         \u001b[0mprediction\u001b[0m\u001b[1;33m[\u001b[0m\u001b[0mi\u001b[0m\u001b[1;33m,\u001b[0m \u001b[0mprediction\u001b[0m\u001b[1;33m[\u001b[0m\u001b[0mi\u001b[0m\u001b[1;33m]\u001b[0m\u001b[1;33m.\u001b[0m\u001b[0margmax\u001b[0m\u001b[1;33m(\u001b[0m\u001b[1;33m)\u001b[0m\u001b[1;33m]\u001b[0m \u001b[1;33m=\u001b[0m \u001b[1;36m1\u001b[0m\u001b[1;33m\u001b[0m\u001b[1;33m\u001b[0m\u001b[0m\n",
      "\u001b[1;32m~\\AppData\\Roaming\\Python\\Python38\\site-packages\\tensorflow\\python\\keras\\engine\\training.py\u001b[0m in \u001b[0;36mpredict\u001b[1;34m(self, x, batch_size, verbose, steps, callbacks, max_queue_size, workers, use_multiprocessing)\u001b[0m\n\u001b[0;32m   1627\u001b[0m           \u001b[1;32mfor\u001b[0m \u001b[0mstep\u001b[0m \u001b[1;32min\u001b[0m \u001b[0mdata_handler\u001b[0m\u001b[1;33m.\u001b[0m\u001b[0msteps\u001b[0m\u001b[1;33m(\u001b[0m\u001b[1;33m)\u001b[0m\u001b[1;33m:\u001b[0m\u001b[1;33m\u001b[0m\u001b[1;33m\u001b[0m\u001b[0m\n\u001b[0;32m   1628\u001b[0m             \u001b[0mcallbacks\u001b[0m\u001b[1;33m.\u001b[0m\u001b[0mon_predict_batch_begin\u001b[0m\u001b[1;33m(\u001b[0m\u001b[0mstep\u001b[0m\u001b[1;33m)\u001b[0m\u001b[1;33m\u001b[0m\u001b[1;33m\u001b[0m\u001b[0m\n\u001b[1;32m-> 1629\u001b[1;33m             \u001b[0mtmp_batch_outputs\u001b[0m \u001b[1;33m=\u001b[0m \u001b[0mself\u001b[0m\u001b[1;33m.\u001b[0m\u001b[0mpredict_function\u001b[0m\u001b[1;33m(\u001b[0m\u001b[0miterator\u001b[0m\u001b[1;33m)\u001b[0m\u001b[1;33m\u001b[0m\u001b[1;33m\u001b[0m\u001b[0m\n\u001b[0m\u001b[0;32m   1630\u001b[0m             \u001b[1;32mif\u001b[0m \u001b[0mdata_handler\u001b[0m\u001b[1;33m.\u001b[0m\u001b[0mshould_sync\u001b[0m\u001b[1;33m:\u001b[0m\u001b[1;33m\u001b[0m\u001b[1;33m\u001b[0m\u001b[0m\n\u001b[0;32m   1631\u001b[0m               \u001b[0mcontext\u001b[0m\u001b[1;33m.\u001b[0m\u001b[0masync_wait\u001b[0m\u001b[1;33m(\u001b[0m\u001b[1;33m)\u001b[0m\u001b[1;33m\u001b[0m\u001b[1;33m\u001b[0m\u001b[0m\n",
      "\u001b[1;32m~\\AppData\\Roaming\\Python\\Python38\\site-packages\\tensorflow\\python\\eager\\def_function.py\u001b[0m in \u001b[0;36m__call__\u001b[1;34m(self, *args, **kwds)\u001b[0m\n\u001b[0;32m    826\u001b[0m     \u001b[0mtracing_count\u001b[0m \u001b[1;33m=\u001b[0m \u001b[0mself\u001b[0m\u001b[1;33m.\u001b[0m\u001b[0mexperimental_get_tracing_count\u001b[0m\u001b[1;33m(\u001b[0m\u001b[1;33m)\u001b[0m\u001b[1;33m\u001b[0m\u001b[1;33m\u001b[0m\u001b[0m\n\u001b[0;32m    827\u001b[0m     \u001b[1;32mwith\u001b[0m \u001b[0mtrace\u001b[0m\u001b[1;33m.\u001b[0m\u001b[0mTrace\u001b[0m\u001b[1;33m(\u001b[0m\u001b[0mself\u001b[0m\u001b[1;33m.\u001b[0m\u001b[0m_name\u001b[0m\u001b[1;33m)\u001b[0m \u001b[1;32mas\u001b[0m \u001b[0mtm\u001b[0m\u001b[1;33m:\u001b[0m\u001b[1;33m\u001b[0m\u001b[1;33m\u001b[0m\u001b[0m\n\u001b[1;32m--> 828\u001b[1;33m       \u001b[0mresult\u001b[0m \u001b[1;33m=\u001b[0m \u001b[0mself\u001b[0m\u001b[1;33m.\u001b[0m\u001b[0m_call\u001b[0m\u001b[1;33m(\u001b[0m\u001b[1;33m*\u001b[0m\u001b[0margs\u001b[0m\u001b[1;33m,\u001b[0m \u001b[1;33m**\u001b[0m\u001b[0mkwds\u001b[0m\u001b[1;33m)\u001b[0m\u001b[1;33m\u001b[0m\u001b[1;33m\u001b[0m\u001b[0m\n\u001b[0m\u001b[0;32m    829\u001b[0m       \u001b[0mcompiler\u001b[0m \u001b[1;33m=\u001b[0m \u001b[1;34m\"xla\"\u001b[0m \u001b[1;32mif\u001b[0m \u001b[0mself\u001b[0m\u001b[1;33m.\u001b[0m\u001b[0m_experimental_compile\u001b[0m \u001b[1;32melse\u001b[0m \u001b[1;34m\"nonXla\"\u001b[0m\u001b[1;33m\u001b[0m\u001b[1;33m\u001b[0m\u001b[0m\n\u001b[0;32m    830\u001b[0m       \u001b[0mnew_tracing_count\u001b[0m \u001b[1;33m=\u001b[0m \u001b[0mself\u001b[0m\u001b[1;33m.\u001b[0m\u001b[0mexperimental_get_tracing_count\u001b[0m\u001b[1;33m(\u001b[0m\u001b[1;33m)\u001b[0m\u001b[1;33m\u001b[0m\u001b[1;33m\u001b[0m\u001b[0m\n",
      "\u001b[1;32m~\\AppData\\Roaming\\Python\\Python38\\site-packages\\tensorflow\\python\\eager\\def_function.py\u001b[0m in \u001b[0;36m_call\u001b[1;34m(self, *args, **kwds)\u001b[0m\n\u001b[0;32m    860\u001b[0m       \u001b[1;31m# In this case we have not created variables on the first call. So we can\u001b[0m\u001b[1;33m\u001b[0m\u001b[1;33m\u001b[0m\u001b[1;33m\u001b[0m\u001b[0m\n\u001b[0;32m    861\u001b[0m       \u001b[1;31m# run the first trace but we should fail if variables are created.\u001b[0m\u001b[1;33m\u001b[0m\u001b[1;33m\u001b[0m\u001b[1;33m\u001b[0m\u001b[0m\n\u001b[1;32m--> 862\u001b[1;33m       \u001b[0mresults\u001b[0m \u001b[1;33m=\u001b[0m \u001b[0mself\u001b[0m\u001b[1;33m.\u001b[0m\u001b[0m_stateful_fn\u001b[0m\u001b[1;33m(\u001b[0m\u001b[1;33m*\u001b[0m\u001b[0margs\u001b[0m\u001b[1;33m,\u001b[0m \u001b[1;33m**\u001b[0m\u001b[0mkwds\u001b[0m\u001b[1;33m)\u001b[0m\u001b[1;33m\u001b[0m\u001b[1;33m\u001b[0m\u001b[0m\n\u001b[0m\u001b[0;32m    863\u001b[0m       \u001b[1;32mif\u001b[0m \u001b[0mself\u001b[0m\u001b[1;33m.\u001b[0m\u001b[0m_created_variables\u001b[0m\u001b[1;33m:\u001b[0m\u001b[1;33m\u001b[0m\u001b[1;33m\u001b[0m\u001b[0m\n\u001b[0;32m    864\u001b[0m         raise ValueError(\"Creating variables on a non-first call to a function\"\n",
      "\u001b[1;32m~\\AppData\\Roaming\\Python\\Python38\\site-packages\\tensorflow\\python\\eager\\function.py\u001b[0m in \u001b[0;36m__call__\u001b[1;34m(self, *args, **kwargs)\u001b[0m\n\u001b[0;32m   2940\u001b[0m       (graph_function,\n\u001b[0;32m   2941\u001b[0m        filtered_flat_args) = self._maybe_define_function(args, kwargs)\n\u001b[1;32m-> 2942\u001b[1;33m     return graph_function._call_flat(\n\u001b[0m\u001b[0;32m   2943\u001b[0m         filtered_flat_args, captured_inputs=graph_function.captured_inputs)  # pylint: disable=protected-access\n\u001b[0;32m   2944\u001b[0m \u001b[1;33m\u001b[0m\u001b[0m\n",
      "\u001b[1;32m~\\AppData\\Roaming\\Python\\Python38\\site-packages\\tensorflow\\python\\eager\\function.py\u001b[0m in \u001b[0;36m_call_flat\u001b[1;34m(self, args, captured_inputs, cancellation_manager)\u001b[0m\n\u001b[0;32m   1916\u001b[0m         and executing_eagerly):\n\u001b[0;32m   1917\u001b[0m       \u001b[1;31m# No tape is watching; skip to running the function.\u001b[0m\u001b[1;33m\u001b[0m\u001b[1;33m\u001b[0m\u001b[1;33m\u001b[0m\u001b[0m\n\u001b[1;32m-> 1918\u001b[1;33m       return self._build_call_outputs(self._inference_function.call(\n\u001b[0m\u001b[0;32m   1919\u001b[0m           ctx, args, cancellation_manager=cancellation_manager))\n\u001b[0;32m   1920\u001b[0m     forward_backward = self._select_forward_and_backward_functions(\n",
      "\u001b[1;32m~\\AppData\\Roaming\\Python\\Python38\\site-packages\\tensorflow\\python\\eager\\function.py\u001b[0m in \u001b[0;36mcall\u001b[1;34m(self, ctx, args, cancellation_manager)\u001b[0m\n\u001b[0;32m    553\u001b[0m       \u001b[1;32mwith\u001b[0m \u001b[0m_InterpolateFunctionError\u001b[0m\u001b[1;33m(\u001b[0m\u001b[0mself\u001b[0m\u001b[1;33m)\u001b[0m\u001b[1;33m:\u001b[0m\u001b[1;33m\u001b[0m\u001b[1;33m\u001b[0m\u001b[0m\n\u001b[0;32m    554\u001b[0m         \u001b[1;32mif\u001b[0m \u001b[0mcancellation_manager\u001b[0m \u001b[1;32mis\u001b[0m \u001b[1;32mNone\u001b[0m\u001b[1;33m:\u001b[0m\u001b[1;33m\u001b[0m\u001b[1;33m\u001b[0m\u001b[0m\n\u001b[1;32m--> 555\u001b[1;33m           outputs = execute.execute(\n\u001b[0m\u001b[0;32m    556\u001b[0m               \u001b[0mstr\u001b[0m\u001b[1;33m(\u001b[0m\u001b[0mself\u001b[0m\u001b[1;33m.\u001b[0m\u001b[0msignature\u001b[0m\u001b[1;33m.\u001b[0m\u001b[0mname\u001b[0m\u001b[1;33m)\u001b[0m\u001b[1;33m,\u001b[0m\u001b[1;33m\u001b[0m\u001b[1;33m\u001b[0m\u001b[0m\n\u001b[0;32m    557\u001b[0m               \u001b[0mnum_outputs\u001b[0m\u001b[1;33m=\u001b[0m\u001b[0mself\u001b[0m\u001b[1;33m.\u001b[0m\u001b[0m_num_outputs\u001b[0m\u001b[1;33m,\u001b[0m\u001b[1;33m\u001b[0m\u001b[1;33m\u001b[0m\u001b[0m\n",
      "\u001b[1;32m~\\AppData\\Roaming\\Python\\Python38\\site-packages\\tensorflow\\python\\eager\\execute.py\u001b[0m in \u001b[0;36mquick_execute\u001b[1;34m(op_name, num_outputs, inputs, attrs, ctx, name)\u001b[0m\n\u001b[0;32m     57\u001b[0m   \u001b[1;32mtry\u001b[0m\u001b[1;33m:\u001b[0m\u001b[1;33m\u001b[0m\u001b[1;33m\u001b[0m\u001b[0m\n\u001b[0;32m     58\u001b[0m     \u001b[0mctx\u001b[0m\u001b[1;33m.\u001b[0m\u001b[0mensure_initialized\u001b[0m\u001b[1;33m(\u001b[0m\u001b[1;33m)\u001b[0m\u001b[1;33m\u001b[0m\u001b[1;33m\u001b[0m\u001b[0m\n\u001b[1;32m---> 59\u001b[1;33m     tensors = pywrap_tfe.TFE_Py_Execute(ctx._handle, device_name, op_name,\n\u001b[0m\u001b[0;32m     60\u001b[0m                                         inputs, attrs, num_outputs)\n\u001b[0;32m     61\u001b[0m   \u001b[1;32mexcept\u001b[0m \u001b[0mcore\u001b[0m\u001b[1;33m.\u001b[0m\u001b[0m_NotOkStatusException\u001b[0m \u001b[1;32mas\u001b[0m \u001b[0me\u001b[0m\u001b[1;33m:\u001b[0m\u001b[1;33m\u001b[0m\u001b[1;33m\u001b[0m\u001b[0m\n",
      "\u001b[1;31mKeyboardInterrupt\u001b[0m: "
     ]
    }
   ],
   "source": [
    "predict_csv_HPAV100(model_HPAV100, threshold = HPAV100_thresh, verbose = 1, save_path = './test_model_HPAV100.csv')"
   ]
  }
 ],
 "metadata": {
  "kernelspec": {
   "display_name": "ATLAS_GPU",
   "language": "python",
   "name": "atlas_gpu"
  },
  "language_info": {
   "codemirror_mode": {
    "name": "ipython",
    "version": 3
   },
   "file_extension": ".py",
   "mimetype": "text/x-python",
   "name": "python",
   "nbconvert_exporter": "python",
   "pygments_lexer": "ipython3",
   "version": "3.8.8"
  }
 },
 "nbformat": 4,
 "nbformat_minor": 5
}
