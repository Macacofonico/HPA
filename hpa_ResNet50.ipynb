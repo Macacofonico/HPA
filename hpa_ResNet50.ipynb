{
 "cells": [
  {
   "cell_type": "code",
   "execution_count": 1,
   "id": "b8639e48",
   "metadata": {},
   "outputs": [],
   "source": [
    "import numpy as np\n",
    "import pandas as pd\n",
    "import sklearn.model_selection as model_selection\n",
    "import tensorflow as tf\n",
    "import keras\n",
    "import pydot\n",
    "import matplotlib.pyplot as plt"
   ]
  },
  {
   "cell_type": "code",
   "execution_count": 2,
   "id": "5a8a4acb",
   "metadata": {},
   "outputs": [
    {
     "name": "stdout",
     "output_type": "stream",
     "text": [
      "Devices List:  [PhysicalDevice(name='/physical_device:GPU:0', device_type='GPU')]\n",
      "Is built with CUDA: True\n"
     ]
    }
   ],
   "source": [
    "# Test for GPU and CUDA\n",
    "\n",
    "print('Devices List: ', tf.config.list_physical_devices('GPU'))\n",
    "print('Is built with CUDA:', tf.test.is_built_with_cuda())"
   ]
  },
  {
   "cell_type": "code",
   "execution_count": 3,
   "id": "c900864b",
   "metadata": {},
   "outputs": [],
   "source": [
    "# List, dictionaries of class number and labels.\n",
    "\n",
    "label_dict = {0: 'Nucleoplasm', 1: 'Nuclear membrane', 2: 'Nucleoli', 3: 'Nucleoli fibrillar center', 4: 'Nuclear speckles', 5: 'Nuclear bodies', 6: 'Endoplasmic reticulum',\n",
    "         7: 'Golgi apparatus', 8: 'Peroxisomes', 9: 'Endosomes', 10: 'Lysosomes', 11: 'Intermediate filaments', 12: 'Actin filaments', 13: 'Focal adhesion sites', \n",
    "         14: 'Microtubules', 15: 'Microtubule ends', 16: 'Cytokinetic bridge', 17: 'Mitotic spindle', 18: 'Microtubule organizing center', 19: 'Centrosome', 20: 'Lipid droplets',\n",
    "         21: 'Plasma membrane', 22: 'Cell junctions', 23: 'Mitochondria', 24: 'Aggresome', 25: 'Cytosol', 26: 'Cytoplasmic bodies', 27: 'Rods & rings'}\n",
    "\n",
    "label_list = ['Nucleoplasm', 'Nuclear membrane', 'Nucleoli', 'Nucleoli fibrillar center', 'Nuclear speckles', 'Nuclear bodies', 'Endoplasmic reticulum', \n",
    "              'Golgi apparatus', 'Peroxisomes', 'Endosomes', 'Lysosomes', 'Intermediate filaments', 'Actin filaments', 'Focal adhesion sites', \n",
    "              'Microtubules', 'Microtubule ends', 'Cytokinetic bridge', 'Mitotic spindle', 'Microtubule organizing center', 'Centrosome', 'Lipid droplets', \n",
    "              'Plasma membrane', 'Cell junctions', 'Mitochondria', 'Aggresome', 'Cytosol', 'Cytoplasmic bodies', 'Rods & rings']\n",
    "\n",
    "map_label_number = {'Nucleoplasm': 0, 'Nuclear membrane': 1, 'Nucleoli': 2, 'Nucleoli fibrillar center': 3, 'Nuclear speckles': 4, 'Nuclear bodies': 5, 'Endoplasmic reticulum': 6, \n",
    "                    'Golgi apparatus': 7, 'Peroxisomes': 8, 'Endosomes': 9, 'Lysosomes': 10, 'Intermediate filaments': 11, 'Actin filaments': 12, 'Focal adhesion sites': 13, \n",
    "                    'Microtubules': 14, 'Microtubule ends': 15, 'Cytokinetic bridge': 16, 'Mitotic spindle': 17, 'Microtubule organizing center': 18, 'Centrosome': 19, 'Lipid droplets': 20, \n",
    "                    'Plasma membrane': 21, 'Cell junctions': 22, 'Mitochondria': 23, 'Aggresome': 24, 'Cytosol': 25, 'Cytoplasmic bodies': 26, 'Rods & rings': 27}"
   ]
  },
  {
   "cell_type": "code",
   "execution_count": 4,
   "id": "76598d32",
   "metadata": {},
   "outputs": [],
   "source": [
    "# Set the path to train set\n",
    "\n",
    "path_to_train = './train/'"
   ]
  },
  {
   "cell_type": "code",
   "execution_count": 5,
   "id": "d9af8770",
   "metadata": {},
   "outputs": [],
   "source": [
    "# Global Variables\n",
    "\n",
    "INPUT_SHAPE = (512, 512, 3) # Images all have the same dimension\n",
    "BATCH_SIZE = 4 # batch size for model learing. 8 gives OOM"
   ]
  },
  {
   "cell_type": "code",
   "execution_count": 6,
   "id": "db53aff0",
   "metadata": {},
   "outputs": [],
   "source": [
    "ground_truth = pd.read_csv('train.csv')\n",
    "ground_truth['List Target'] = ground_truth['Target'].apply(lambda string: sorted(list(map(int, string.split(' ')))))\n",
    "ground_truth['Label Target'] =  ground_truth['List Target'].apply(lambda lis: [label_list[idx] for idx in lis])\n",
    "ground_truth['Label'] =  ground_truth['Label Target'].apply(lambda lis: ', '.join(lis))\n",
    "ground_truth['Path'] = path_to_train + ground_truth['Id']"
   ]
  },
  {
   "cell_type": "code",
   "execution_count": 7,
   "id": "5fac497c",
   "metadata": {},
   "outputs": [],
   "source": [
    "# Get train set and validation set\n",
    "\n",
    "train, val = model_selection.train_test_split(ground_truth, test_size = 0.2, random_state = 42)"
   ]
  },
  {
   "cell_type": "code",
   "execution_count": 8,
   "id": "043ea779",
   "metadata": {},
   "outputs": [],
   "source": [
    "# OneHotEncoding\n",
    "\n",
    "def get_clean_data(df):\n",
    "    targets = []\n",
    "    paths = []\n",
    "    for _, row in df.iterrows():\n",
    "        target_np = np.zeros(len(label_list))\n",
    "        t = [int(t) for t in row.Target.split()]\n",
    "        target_np[t] = 1\n",
    "        targets.append(target_np)\n",
    "        paths.append(row.Path)\n",
    "    return np.array(paths), np.array(targets)\n",
    "\n",
    "\n",
    "def load_data(path, target):\n",
    "    red = tf.squeeze(tf.image.decode_png(tf.io.read_file(path + '_red.png'), channels = 1), [2])\n",
    "    blue = tf.squeeze(tf.image.decode_png(tf.io.read_file(path + '_blue.png'), channels = 1), [2])\n",
    "    green = tf.squeeze(tf.image.decode_png(tf.io.read_file(path + '_green.png'), channels = 1), [2])\n",
    "    img = tf.stack((red, green, blue), axis=2)\n",
    "    return img, target\n",
    "\n",
    "AUTOTUNE = tf.data.experimental.AUTOTUNE"
   ]
  },
  {
   "cell_type": "code",
   "execution_count": 9,
   "id": "96b65b7a",
   "metadata": {},
   "outputs": [],
   "source": [
    "train_path, train_target = get_clean_data(train)\n",
    "val_path, val_target = get_clean_data(val)\n",
    "\n",
    "#print(f'Train path shape: {train_path.shape}')\n",
    "#print(f'Train target shape: {train_target.shape}')\n",
    "#print(f'Val path shape: {val_path.shape}')\n",
    "#print(f'Val target shape: {val_target.shape}')"
   ]
  },
  {
   "cell_type": "code",
   "execution_count": 10,
   "id": "d220ee2f",
   "metadata": {},
   "outputs": [],
   "source": [
    "train_data = tf.data.Dataset.from_tensor_slices((train_path, train_target))\n",
    "val_data = tf.data.Dataset.from_tensor_slices((val_path, val_target))"
   ]
  },
  {
   "cell_type": "code",
   "execution_count": 11,
   "id": "0e89f357",
   "metadata": {},
   "outputs": [],
   "source": [
    "train_data = train_data.map(load_data, num_parallel_calls = AUTOTUNE) # prendiamo ogni elemento di train_data (che sono path) e li mappiamo nella rispettiva immagine\n",
    "val_data = val_data.map(load_data, num_parallel_calls = AUTOTUNE)"
   ]
  },
  {
   "cell_type": "code",
   "execution_count": null,
   "id": "75e2c2cc",
   "metadata": {},
   "outputs": [],
   "source": []
  },
  {
   "cell_type": "code",
   "execution_count": 12,
   "id": "264f3621",
   "metadata": {},
   "outputs": [
    {
     "data": {
      "text/plain": [
       "<PrefetchDataset shapes: ((None, None, None, 3), (None, 28)), types: (tf.uint8, tf.float64)>"
      ]
     },
     "execution_count": 12,
     "metadata": {},
     "output_type": "execute_result"
    }
   ],
   "source": [
    "train_data_batches = train_data.batch(BATCH_SIZE).prefetch(buffer_size = AUTOTUNE)\n",
    "val_data_batches = val_data.batch(BATCH_SIZE).prefetch(buffer_size = AUTOTUNE)\n",
    "train_data_batches"
   ]
  },
  {
   "cell_type": "code",
   "execution_count": 13,
   "id": "34d31cdd",
   "metadata": {},
   "outputs": [
    {
     "name": "stdout",
     "output_type": "stream",
     "text": [
      "Model: \"model\"\n",
      "_________________________________________________________________\n",
      "Layer (type)                 Output Shape              Param #   \n",
      "=================================================================\n",
      "input_2 (InputLayer)         [(None, 512, 512, 3)]     0         \n",
      "_________________________________________________________________\n",
      "resnet50 (Functional)        (None, None, None, 2048)  23587712  \n",
      "_________________________________________________________________\n",
      "flatten (Flatten)            (None, 524288)            0         \n",
      "_________________________________________________________________\n",
      "dropout (Dropout)            (None, 524288)            0         \n",
      "_________________________________________________________________\n",
      "dense (Dense)                (None, 512)               268435968 \n",
      "_________________________________________________________________\n",
      "dropout_1 (Dropout)          (None, 512)               0         \n",
      "_________________________________________________________________\n",
      "dense_1 (Dense)              (None, 28)                14364     \n",
      "=================================================================\n",
      "Total params: 292,038,044\n",
      "Trainable params: 291,984,924\n",
      "Non-trainable params: 53,120\n",
      "_________________________________________________________________\n"
     ]
    }
   ],
   "source": [
    "# The model starts with a ResNet50 layer and stack Flatten, Dropout and Dense layers.\n",
    "\n",
    "resnet_model = keras.applications.ResNet50(include_top = False, weights = 'imagenet') # include_top = False dovrebbe permettermi di personalizzare l'input layer\n",
    "resnet_model.trainable = True\n",
    "\n",
    "input_layer = keras.layers.Input(shape = INPUT_SHAPE)\n",
    "x = resnet_model(input_layer)\n",
    "x = keras.layers.Flatten()(x) # create a single array\n",
    "x = keras.layers.Dropout(0.5)(x) # reduce overfitting\n",
    "x = keras.layers.Dense(512, activation = 'relu')(x)\n",
    "x = keras.layers.Dropout(0.5)(x)\n",
    "output = keras.layers.Dense(28, activation = 'softmax')(x) # 28, one for each class\n",
    "resnet_model = keras.models.Model(input_layer, output)\n",
    "\n",
    "resnet_model.summary()"
   ]
  },
  {
   "cell_type": "code",
   "execution_count": 14,
   "id": "a95e7be3",
   "metadata": {},
   "outputs": [
    {
     "data": {
      "image/png": "[encoded data removed]",
      "text/plain": [
       "<IPython.core.display.Image object>"
      ]
     },
     "execution_count": 14,
     "metadata": {},
     "output_type": "execute_result"
    }
   ],
   "source": [
    "keras.utils.plot_model(resnet_model, \"hpa_ResNet50.png\", show_shapes = True)"
   ]
  },
  {
   "cell_type": "code",
   "execution_count": 15,
   "id": "06e911eb",
   "metadata": {},
   "outputs": [],
   "source": [
    "resnet_model.compile(optimizer = keras.optimizers.Adam(1e-4), loss = 'binary_crossentropy', metrics = 'binary_accuracy')"
   ]
  },
  {
   "cell_type": "code",
   "execution_count": 16,
   "id": "cc548cce",
   "metadata": {},
   "outputs": [
    {
     "name": "stdout",
     "output_type": "stream",
     "text": [
      "Epoch 1/120\n",
      "150/150 [==============================] - 119s 749ms/step - loss: 0.8752 - binary_accuracy: 0.8551 - val_loss: 0.2547 - val_binary_accuracy: 0.9399 - binary_accuracy: 0.80 - ETA: 21s - loss: 1.2354 - binary_accuracy - - ETA: 9s - loss: 1.0094 - binar - ETA: 6s - loss: 0.9510 - binary_accuracy: 0.8 - ETA: 5s - loss: 0.9427 - binary_accuracy: 0.848 - ETA: 5s - loss: 0.9400 -  - ETA: 0s - loss: 0.8839 - binary_accuracy: 0.\n",
      "Epoch 2/120\n",
      "150/150 [==============================] - 109s 730ms/step - loss: 0.2846 - binary_accuracy: 0.9082 - val_loss: 0.2190 - val_binary_accuracy: 0.9449\n",
      "Epoch 3/120\n",
      "150/150 [==============================] - 110s 738ms/step - loss: 0.2494 - binary_accuracy: 0.9229 - val_loss: 0.1977 - val_binary_accuracy: 0.9420ETA: 0s - loss: 0.2496 - binary_accuracy: 0\n",
      "Epoch 4/120\n",
      "150/150 [==============================] - 109s 732ms/step - loss: 0.2417 - binary_accuracy: 0.9261 - val_loss: 0.1951 - val_binary_accuracy: 0.9458\n",
      "Epoch 5/120\n",
      "150/150 [==============================] - 109s 733ms/step - loss: 0.2292 - binary_accuracy: 0.9292 - val_loss: 0.2106 - val_binary_accuracy: 0.9467\n",
      "Epoch 6/120\n",
      "150/150 [==============================] - 110s 737ms/step - loss: 0.2142 - binary_accuracy: 0.9337 - val_loss: 0.1634 - val_binary_accuracy: 0.9487: 0.21 - ETA: 1s - loss: 0.2142 - binary_accura\n",
      "Epoch 7/120\n",
      "150/150 [==============================] - 109s 732ms/step - loss: 0.2046 - binary_accuracy: 0.9381 - val_loss: 0.1686 - val_binary_accuracy: 0.9485\n",
      "Epoch 8/120\n",
      "150/150 [==============================] - 109s 732ms/step - loss: 0.2040 - binary_accuracy: 0.9371 - val_loss: 0.1602 - val_binary_accuracy: 0.94887 - ETA: 2s - loss: 0.2037 - binary_accur\n",
      "Epoch 9/120\n",
      "150/150 [==============================] - 109s 732ms/step - loss: 0.1937 - binary_accuracy: 0.9395 - val_loss: 0.1601 - val_binary_accuracy: 0.9487s  - ETA: 12s - loss - ETA\n",
      "Epoch 10/120\n",
      "150/150 [==============================] - 109s 732ms/step - loss: 0.1879 - binary_accuracy: 0.9418 - val_loss: 0.1587 - val_binary_accuracy: 0.9496 - loss: 0.1886 - binar - ETA: 4s - loss: 0.1881 - binary_accu - ETA: 2s - loss: 0.1879 - binary_accuracy: 0.94 - ETA: 1s - loss: 0.1879 - binary_accurac\n",
      "Epoch 11/120\n",
      "150/150 [==============================] - 109s 733ms/step - loss: 0.1880 - binary_accuracy: 0.9407 - val_loss: 0.1614 - val_binary_accuracy: 0.9485\n",
      "Epoch 12/120\n",
      "150/150 [==============================] - 110s 735ms/step - loss: 0.1873 - binary_accuracy: 0.9414 - val_loss: 0.1551 - val_binary_accuracy: 0.9497s - loss: 0.1869 - binar - ETA: 14s - loss: 0.1868 - binary_ - ETA: 13s - loss: 0\n",
      "Epoch 13/120\n",
      "150/150 [==============================] - 109s 731ms/step - loss: 0.1760 - binary_accuracy: 0.9460 - val_loss: 0.1614 - val_binary_accuracy: 0.9489 - loss: 0.1752 - binary_accuracy: 0 - ETA: 2s - loss: 0.1754 - binary_ac\n",
      "Epoch 14/120\n",
      "150/150 [==============================] - 109s 731ms/step - loss: 0.1895 - binary_accuracy: 0.9397 - val_loss: 0.1623 - val_binary_accuracy: 0.9472ss: 0. - ETA: 17s - loss: 0.18 - ETA: 14s - loss: 0.1905 - binary_accu - ETA: 6s - loss: 0\n",
      "Epoch 15/120\n",
      "150/150 [==============================] - 109s 732ms/step - loss: 0.1803 - binary_accuracy: 0.9444 - val_loss: 0.1772 - val_binary_accuracy: 0.9489uracy: 0.9 - ETA: 7s - \n",
      "Epoch 16/120\n",
      "150/150 [==============================] - 109s 731ms/step - loss: 0.1899 - binary_accuracy: 0.9414 - val_loss: 0.1568 - val_binary_accuracy: 0.9517s - loss: 0.1938 - binary_accuracy: 0. - ETA: 10s - loss: 0.1 - ETA: 5s - loss: 0.1915 - binary_accuracy: - ETA: 4s - loss: 0.1911 - bi\n",
      "Epoch 17/120\n",
      "150/150 [==============================] - 109s 731ms/step - loss: 0.1873 - binary_accuracy: 0.9408 - val_loss: 0.1728 - val_binary_accuracy: 0.949550 - b - ETA: 12s  - ETA: 7s - loss: 0.1895 - binary_accuracy:  - ETA: 6s - loss: 0\n",
      "Epoch 18/120\n",
      "150/150 [==============================] - 109s 731ms/step - loss: 0.1802 - binary_accuracy: 0.9442 - val_loss: 0.1598 - val_binary_accuracy: 0.9501 - loss: 0.1802 - binary_accuracy: 0.94 - ETA: 7s \n",
      "Epoch 19/120\n",
      "150/150 [==============================] - 109s 731ms/step - loss: 0.1701 - binary_accuracy: 0.9472 - val_loss: 0.1954 - val_binary_accuracy: 0.9422ss: 0.1701 - binary_accuracy: 0.947 - ETA: 9s - loss: 0.1701 - binary_accuracy: 0.94 - ETA: 9s - loss: 0.1700 - binary_accuracy: 0 - ETA: 7s - loss: 0.1699  - ETA: 2s - loss: 0.1700 - binary_a\n",
      "Epoch 20/120\n",
      "150/150 [==============================] - 109s 730ms/step - loss: 0.1731 - binary_accuracy: 0.9451 - val_loss: 0.1561 - val_binary_accuracy: 0.9499 ETA: 2s - loss: 0.1730 - binary_acc\n",
      "Epoch 21/120\n",
      "150/150 [==============================] - 109s 731ms/step - loss: 0.1717 - binary_accuracy: 0.9446 - val_loss: 0.1542 - val_binary_accuracy: 0.9504\n",
      "Epoch 22/120\n",
      "150/150 [==============================] - 109s 731ms/step - loss: 0.1739 - binary_accuracy: 0.9467 - val_loss: 0.1711 - val_binary_accuracy: 0.9493\n",
      "Epoch 23/120\n",
      "150/150 [==============================] - 109s 731ms/step - loss: 0.1631 - binary_accuracy: 0.9475 - val_loss: 0.1677 - val_binary_accuracy: 0.9490- loss: 0. - ETA: 18s - loss: 0.1622 - binary_accura - ETA - ETA: 12s - loss: 0.1618 - binary_ - ETA: 10s - loss: 0.1 - ETA: 5s - loss: 0.16\n",
      "Epoch 24/120\n",
      "150/150 [==============================] - 109s 731ms/step - loss: 0.1720 - binary_accuracy: 0.9467 - val_loss: 0.1479 - val_binary_accuracy: 0.9522\n",
      "Epoch 25/120\n",
      "150/150 [==============================] - 109s 731ms/step - loss: 0.1660 - binary_accuracy: 0.9460 - val_loss: 0.1568 - val_binary_accuracy: 0.9519: 17s - loss - ETA: 13s - loss: 0.1636 - binary_accura - ETA: 12s - loss: 0.1639 - binary_accuracy: 0. - ETA: 12s - loss: 0.16 - ETA: 8s - loss: 0.1648 - binary_accurac - ETA: 6s - loss\n",
      "Epoch 26/120\n",
      "150/150 [==============================] - 109s 731ms/step - loss: 0.1648 - binary_accuracy: 0.9489 - val_loss: 0.1558 - val_binary_accuracy: 0.951212s - loss: 0.1617 - binary_accuracy: 0.94 - ETA: 11s - loss: 0. - ETA: 7s - loss: 0.1630 - b - ETA: 3s - loss: 0.1641 - binary_accuracy: 0.949 - ETA: 3s - loss: 0.1642 - binary_accuracy: 0.94 - ETA: 2s - loss: 0.1643 - binary_ac\n",
      "Epoch 27/120\n",
      "150/150 [==============================] - 109s 731ms/step - loss: 0.1606 - binary_accuracy: 0.9501 - val_loss: 0.1522 - val_binary_accuracy: 0.9519: 17s -  - ETA: 13s - loss: 0.1566 - bin - ETA: 11s - loss:  - ETA: 7s - los - ETA: 0s - loss: 0.1605 - binary_accuracy: 0.95\n",
      "Epoch 28/120\n",
      "150/150 [==============================] - 109s 731ms/step - loss: 0.1602 - binary_accuracy: 0.9500 - val_loss: 0.1654 - val_binary_accuracy: 0.9526 - binary_accuracy:  - ETA: 15s - loss: 0.1584 - binary_accuracy: 0.95 - ETA: 15s - loss: 0.1585 - binary_accuracy - ETA: 14s - loss: 0.1588 - binary_accura - ETA: 13s - loss: 0.1590 - - ETA: 10s - - ETA: 3s - loss: 0.1597 - bin\n",
      "Epoch 29/120\n",
      "150/150 [==============================] - 109s 732ms/step - loss: 0.1647 - binary_accuracy: 0.9484 - val_loss: 0.1500 - val_binary_accuracy: 0.9535inary_ac - ETA: 10s - loss: 0.1660 - binary_accu - ETA: 9s - loss: 0.1658 - binary_a - ETA: 5s - loss: 0.1653 - binary_accuracy: 0 - ETA: 4s - loss: 0.1652 \n",
      "Epoch 30/120\n",
      "150/150 [==============================] - 109s 731ms/step - loss: 0.1562 - binary_accuracy: 0.9516 - val_loss: 0.1612 - val_binary_accuracy: 0.9529\n",
      "Epoch 31/120\n",
      "150/150 [==============================] - 109s 732ms/step - loss: 0.1680 - binary_accuracy: 0.9482 - val_loss: 0.1613 - val_binary_accuracy: 0.9505 binary_accuracy: 0.948 - ETA: 5s - loss: 0.1685  - ETA: 0s - loss: 0.1680 - binary_accuracy: 0.\n",
      "Epoch 32/120\n",
      "150/150 [==============================] - 109s 732ms/step - loss: 0.1684 - binary_accuracy: 0.9483 - val_loss: 0.1649 - val_binary_accuracy: 0.9515oss: 0.1686 -  - ETA: 2s - loss: 0.1687 - binary_a\n",
      "Epoch 33/120\n",
      "150/150 [==============================] - 109s 732ms/step - loss: 0.1683 - binary_accuracy: 0.9485 - val_loss: 0.1829 - val_binary_accuracy: 0.9509 binary_accuracy:  - ETA: 21s - loss: 0.1696 - binar - ETA: 7s - loss: - ETA: 0s - loss: 0.1683 - binary_accuracy: 0.\n",
      "Epoch 34/120\n",
      "150/150 [==============================] - 109s 731ms/step - loss: 0.1713 - binary_accuracy: 0.9490 - val_loss: 0.1826 - val_binary_accuracy: 0.95113s - loss: 0.1723 - binary_accuracy: 0.94 - ETA: 3s - loss: 0.1721 - binar\n",
      "Epoch 35/120\n",
      "150/150 [==============================] - 109s 731ms/step - loss: 0.1611 - binary_accuracy: 0.9486 - val_loss: 0.2115 - val_binary_accuracy: 0.9489TA: 7s - loss: 0.1604 - binary_accuracy: 0.948 - ETA: 7s - loss: 0.160 - ETA: 1s - loss: 0.1609 - binary_accurac\n",
      "Epoch 36/120\n",
      "150/150 [==============================] - 109s 730ms/step - loss: 0.1612 - binary_accuracy: 0.9469 - val_loss: 0.1961 - val_binary_accuracy: 0.9510TA: 16s - loss: 0.1600 - b - ETA: 8s - loss: 0.1606 - binary_a - ETA: 5s - loss: 0.1608 - binary_accuracy:  - ETA: 3s - loss: 0.1609 - bin\n",
      "Epoch 37/120\n",
      "150/150 [==============================] - 109s 731ms/step - loss: 0.1692 - binary_accuracy: 0.9470 - val_loss: 0.1379 - val_binary_accuracy: 0.9557s  - ETA:  - ETA: 9s - loss: 0.1737 -  - ETA: 4s - loss: 0.1708 - binary_ - ETA: 1s - loss: 0.1697 - binary_accurac\n",
      "Epoch 38/120\n",
      "150/150 [==============================] - 109s 730ms/step - loss: 0.1538 - binary_accuracy: 0.9481 - val_loss: 0.1489 - val_binary_accuracy: 0.9545: 0.94 - ETA: 21s - ETA: 3s - loss: 0.1534 - binary_accuracy: 0.948 - ETA: 2s - loss: 0.1534 - binary_accuracy: 0. - ETA: 2s - loss: 0.1535 - binary_accur\n",
      "Epoch 39/120\n",
      "150/150 [==============================] - 109s 731ms/step - loss: 0.1587 - binary_accuracy: 0.9470 - val_loss: 0.1558 - val_binary_accuracy: 0.9527\n",
      "Epoch 40/120\n",
      "150/150 [==============================] - 109s 731ms/step - loss: 0.1541 - binary_accuracy: 0.9499 - val_loss: 0.1522 - val_binary_accuracy: 0.9538y_accuracy: 0. - \n",
      "Epoch 41/120\n",
      "150/150 [==============================] - 109s 732ms/step - loss: 0.1657 - binary_accuracy: 0.9461 - val_loss: 0.1648 - val_binary_accuracy: 0.9521\n",
      "Epoch 42/120\n",
      " 65/150 [============>.................] - ETA: 18s - loss: 0.1681 - binary_accuracy: 0.9490 - ETA: 21s - loss: 0.1694 - binary_accura - ETA: 20s - loss: 0.16WARNING:tensorflow:Your input ran out of data; interrupting training. Make sure that your dataset or generator can generate at least `steps_per_epoch * epochs` batches (in this case, 18000 batches). You may need to use the repeat() function when building your dataset.\n",
      "150/150 [==============================] - 92s 618ms/step - loss: 0.1641 - binary_accuracy: 0.9492 - val_loss: 0.1447 - val_binary_accuracy: 0.9557\n"
     ]
    }
   ],
   "source": [
    "# Uncomment and run for training the model\n",
    "\n",
    "history = resnet_model.fit(train_data_batches, steps_per_epoch = 150, validation_data = val_data_batches, epochs = 40)"
   ]
  },
  {
   "cell_type": "code",
   "execution_count": 17,
   "id": "33ebac73",
   "metadata": {},
   "outputs": [
    {
     "data": {
      "image/png": "[encoded data removed]",
      "text/plain": [
       "<Figure size 864x288 with 1 Axes>"
      ]
     },
     "metadata": {
      "needs_background": "light"
     },
     "output_type": "display_data"
    }
   ],
   "source": [
    "# Plot History\n",
    "\n",
    "pd.DataFrame(history.history).plot(figsize=(12,4))\n",
    "plt.grid(True)"
   ]
  },
  {
   "cell_type": "code",
   "execution_count": 16,
   "id": "21498b26",
   "metadata": {},
   "outputs": [],
   "source": [
    "resnet_model.save('./hpa_ResNet50_model.tf')"
   ]
  },
  {
   "cell_type": "code",
   "execution_count": null,
   "id": "61b5d040",
   "metadata": {},
   "outputs": [],
   "source": []
  },
  {
   "cell_type": "code",
   "execution_count": null,
   "id": "eee3c75e",
   "metadata": {},
   "outputs": [],
   "source": [
    "###### Predict model on validation to get threshold for prediction over test set"
   ]
  },
  {
   "cell_type": "code",
   "execution_count": 14,
   "id": "acfec491",
   "metadata": {},
   "outputs": [],
   "source": [
    "def get_frequency_table(ground_truth):\n",
    "    all_label = pd.DataFrame(ground_truth['Label Target'].sum(), columns = ['Label']).copy()\n",
    "    frequency_table = all_label['Label'].value_counts().reset_index().copy().rename(columns = {'index': 'Label', 'Label': 'Frequency'})\n",
    "    frequency_table['Numeric Label'] = pd.DataFrame(frequency_table['Label']).replace({'Label': map_label_number}).copy()\n",
    "    frequency_table['Relative Frequency'] = frequency_table['Frequency'] / frequency_table['Frequency'].sum()\n",
    "    frequency_table['Relative Frequency %'] = (frequency_table['Frequency'] / frequency_table['Frequency'].sum()).apply(lambda number: '{:.2%}'.format(number))\n",
    "    frequency_table[['Numeric Label', 'Label', 'Frequency', 'Relative Frequency', 'Relative Frequency %']].set_index('Numeric Label')\n",
    "    return frequency_table\n",
    "\n",
    "def get_threshold_from_validation(model, val_data_batches, ground_truth, batch_size = 4, verbose = 1, steps = None):\n",
    "    frequency_table = get_frequency_table(ground_truth)\n",
    "    prediction = model.predict(val_data_batches, batch_size = BATCH_SIZE, verbose = verbose, steps = steps)\n",
    "    freq = list(frequency_table[['Numeric Label', 'Relative Frequency']].sort_values(by='Numeric Label')['Relative Frequency'])\n",
    "    thresh = np.diagonal(np.array(pd.DataFrame(prediction).quantile([1 - f for f in freq])))\n",
    "    return thresh"
   ]
  },
  {
   "cell_type": "code",
   "execution_count": 18,
   "id": "7f159112",
   "metadata": {},
   "outputs": [],
   "source": [
    "# Load the model\n",
    "model_ResNet50 = keras.models.load_model('hpa_ResNet50_model.tf')"
   ]
  },
  {
   "cell_type": "code",
   "execution_count": 19,
   "id": "f6dec4fb",
   "metadata": {},
   "outputs": [
    {
     "name": "stdout",
     "output_type": "stream",
     "text": [
      "1554/1554 [==============================] - 77s 49ms/step\n"
     ]
    },
    {
     "data": {
      "text/plain": [
       "array([0.74444923, 0.30997806, 0.4201866 , 0.22654252, 0.43615441,\n",
       "       0.17688525, 0.10371951, 0.21240841, 0.01169568, 0.01127118,\n",
       "       0.00631477, 0.1015508 , 0.09528982, 0.10901272, 0.97817575,\n",
       "       0.0059347 , 0.05466259, 0.02932084, 0.06736068, 0.11088215,\n",
       "       0.02574941, 0.24147759, 0.05154309, 0.29932558, 0.04224337,\n",
       "       0.46476043, 0.02983662, 0.00598989])"
      ]
     },
     "execution_count": 19,
     "metadata": {},
     "output_type": "execute_result"
    }
   ],
   "source": [
    "# Get threshold for prediction\n",
    "thresh = get_threshold_from_validation(model_ResNet50, val_data_batches, ground_truth, batch_size = 4, verbose = 1, steps = None)\n",
    "thresh"
   ]
  },
  {
   "cell_type": "code",
   "execution_count": null,
   "id": "6fa21314",
   "metadata": {},
   "outputs": [],
   "source": []
  }
 ],
 "metadata": {
  "kernelspec": {
   "display_name": "ATLAS_GPU",
   "language": "python",
   "name": "atlas_gpu"
  },
  "language_info": {
   "codemirror_mode": {
    "name": "ipython",
    "version": 3
   },
   "file_extension": ".py",
   "mimetype": "text/x-python",
   "name": "python",
   "nbconvert_exporter": "python",
   "pygments_lexer": "ipython3",
   "version": "3.8.8"
  }
 },
 "nbformat": 4,
 "nbformat_minor": 5
}
